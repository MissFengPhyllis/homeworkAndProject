{
  "nbformat": 4,
  "nbformat_minor": 0,
  "metadata": {
    "colab": {
      "name": "Homework assignment - Fruits.ipynb",
      "provenance": [],
      "collapsed_sections": [],
      "authorship_tag": "ABX9TyNsc2OQrvXmGrTC9Mn+5bI9",
      "include_colab_link": true
    },
    "kernelspec": {
      "name": "python3",
      "display_name": "Python 3"
    }
  },
  "cells": [
    {
      "cell_type": "markdown",
      "metadata": {
        "id": "view-in-github",
        "colab_type": "text"
      },
      "source": [
        "<a href=\"https://colab.research.google.com/github/MissFengPhyllis/homeworkAndProject/blob/master/Another_assignment_Fruits20200514.ipynb\" target=\"_parent\"><img src=\"https://colab.research.google.com/assets/colab-badge.svg\" alt=\"Open In Colab\"/></a>"
      ]
    },
    {
      "cell_type": "markdown",
      "metadata": {
        "id": "et5Ly7OPM6qi",
        "colab_type": "text"
      },
      "source": [
        "## Homework assignment - Fruits\n",
        "This notebook is the stub you have to fill out for the homework. Read the task description and implement the empty code cells. Each section represents a stage along implementing an image classifier from loading and inspecting the dataset to making something working. The section descriptions contain what to do in that step.\n",
        "\n",
        "Copy this notebook to your drive (File -> Save a copy in Drive), edit it and upload the final ipynb file to canvas.elte.hu or upload the link to the Colab notebook itself. If you have your own machine with Jupyter installed, you can work there as well.\n",
        "\n",
        "Note Make sure the notebook is using GPU accelerataion in Edit -> Notebook settings, otherwise training and evaluation can be very slow.\n",
        "\n",
        "## Task description\n",
        "Your task is to implement a deep learning classifier of fruit images. The dataset contains segmented images of 60 different fruits. You'll have to implement a convolutional network.\n",
        "\n",
        "## Rules and Comments\n",
        "This is an ML class so to pass the homework you do have to implement a working classifier, just loading the data is not enough.\n",
        "As always, copying others' code will make you fail the homework automatically (and thus the course)\n",
        "Make sure your code can be run from an empty state (use Runtime -> Run all in the menu after restarting the notebook)\n",
        "Feel free to add more code cells as needed. But don't put code into external Python files to ease the reviewing.\n",
        "Please add your name and Neptun ID in the box below for easier identification."
      ]
    },
    {
      "cell_type": "markdown",
      "metadata": {
        "id": "23kMqkoyNQrD",
        "colab_type": "text"
      },
      "source": [
        "**Name: Feng Lijiao**\n",
        "\n",
        "**Neptun ID: H2MI9D**"
      ]
    },
    {
      "cell_type": "code",
      "metadata": {
        "id": "523TuxyCE1aZ",
        "colab_type": "code",
        "outputId": "5acca862-9f55-4413-cc76-ca1f0394096e",
        "colab": {
          "base_uri": "https://localhost:8080/",
          "height": 309
        }
      },
      "source": [
        "# Keras 2.3.1 has a bug in evalutation, downgrade it\n",
        "%tensorflow_version 1.x\n",
        "!pip install -U keras==2.2.5"
      ],
      "execution_count": 0,
      "outputs": [
        {
          "output_type": "stream",
          "text": [
            "TensorFlow 1.x selected.\n",
            "Collecting keras==2.2.5\n",
            "\u001b[?25l  Downloading https://files.pythonhosted.org/packages/f8/ba/2d058dcf1b85b9c212cc58264c98a4a7dd92c989b798823cc5690d062bb2/Keras-2.2.5-py2.py3-none-any.whl (336kB)\n",
            "\u001b[K     |████████████████████████████████| 337kB 2.7MB/s \n",
            "\u001b[?25hRequirement already satisfied, skipping upgrade: six>=1.9.0 in /usr/local/lib/python3.6/dist-packages (from keras==2.2.5) (1.12.0)\n",
            "Requirement already satisfied, skipping upgrade: numpy>=1.9.1 in /usr/local/lib/python3.6/dist-packages (from keras==2.2.5) (1.18.4)\n",
            "Requirement already satisfied, skipping upgrade: keras-preprocessing>=1.1.0 in /usr/local/lib/python3.6/dist-packages (from keras==2.2.5) (1.1.0)\n",
            "Requirement already satisfied, skipping upgrade: keras-applications>=1.0.8 in /usr/local/lib/python3.6/dist-packages (from keras==2.2.5) (1.0.8)\n",
            "Requirement already satisfied, skipping upgrade: pyyaml in /usr/local/lib/python3.6/dist-packages (from keras==2.2.5) (3.13)\n",
            "Requirement already satisfied, skipping upgrade: h5py in /usr/local/lib/python3.6/dist-packages (from keras==2.2.5) (2.10.0)\n",
            "Requirement already satisfied, skipping upgrade: scipy>=0.14 in /usr/local/lib/python3.6/dist-packages (from keras==2.2.5) (1.4.1)\n",
            "Installing collected packages: keras\n",
            "  Found existing installation: Keras 2.3.1\n",
            "    Uninstalling Keras-2.3.1:\n",
            "      Successfully uninstalled Keras-2.3.1\n",
            "Successfully installed keras-2.2.5\n"
          ],
          "name": "stdout"
        }
      ]
    },
    {
      "cell_type": "code",
      "metadata": {
        "id": "iqxXNAP6E6wj",
        "colab_type": "code",
        "outputId": "d76698b0-8b15-4f88-b73f-08312c04f2e3",
        "colab": {
          "base_uri": "https://localhost:8080/",
          "height": 88
        }
      },
      "source": [
        "import matplotlib.pyplot as plt\n",
        "import numpy as np\n",
        "import pickle\n",
        "import tensorflow.compat.v1 as tf\n",
        "tf.disable_v2_behavior()"
      ],
      "execution_count": 0,
      "outputs": [
        {
          "output_type": "stream",
          "text": [
            "WARNING:tensorflow:From /tensorflow-1.15.2/python3.6/tensorflow_core/python/compat/v2_compat.py:68: disable_resource_variables (from tensorflow.python.ops.variable_scope) is deprecated and will be removed in a future version.\n",
            "Instructions for updating:\n",
            "non-resource variables are not supported in the long term\n"
          ],
          "name": "stdout"
        }
      ]
    },
    {
      "cell_type": "code",
      "metadata": {
        "id": "ZsxOvO9zE9jS",
        "colab_type": "code",
        "outputId": "3f5ac008-cc74-4c80-d7df-63da865af901",
        "colab": {
          "base_uri": "https://localhost:8080/",
          "height": 204
        }
      },
      "source": [
        "!wget http://vegesm.web.elte.hu/fruits_small.zip\n",
        "!unzip fruits_small.zip > /dev/null"
      ],
      "execution_count": 0,
      "outputs": [
        {
          "output_type": "stream",
          "text": [
            "--2020-05-12 08:50:28--  http://vegesm.web.elte.hu/fruits_small.zip\n",
            "Resolving vegesm.web.elte.hu (vegesm.web.elte.hu)... 157.181.1.225\n",
            "Connecting to vegesm.web.elte.hu (vegesm.web.elte.hu)|157.181.1.225|:80... connected.\n",
            "HTTP request sent, awaiting response... 200 OK\n",
            "Length: 186322919 (178M) [application/zip]\n",
            "Saving to: ‘fruits_small.zip’\n",
            "\n",
            "fruits_small.zip    100%[===================>] 177.69M  4.04MB/s    in 3m 7s   \n",
            "\n",
            "2020-05-12 08:53:36 (974 KB/s) - ‘fruits_small.zip’ saved [186322919/186322919]\n",
            "\n"
          ],
          "name": "stdout"
        }
      ]
    },
    {
      "cell_type": "code",
      "metadata": {
        "id": "2LiQlb7wFJCK",
        "colab_type": "code",
        "colab": {}
      },
      "source": [
        "import os\n",
        "import skimage\n",
        "import numpy as np\n",
        "import matplotlib.pyplot as plt\n",
        "from skimage import color,data,transform,io\n",
        "from sklearn.utils import shuffle\n",
        "import keras\n",
        "from keras.utils import np_utils"
      ],
      "execution_count": 0,
      "outputs": []
    },
    {
      "cell_type": "markdown",
      "metadata": {
        "id": "e9gKspTkOFSP",
        "colab_type": "text"
      },
      "source": [
        "Save the path and separate the paths of the test set and the training set"
      ]
    },
    {
      "cell_type": "code",
      "metadata": {
        "id": "nnqScMRSNkLP",
        "colab_type": "code",
        "colab": {}
      },
      "source": [
        "data_dir = \"/content/fruits-small/\" \n",
        "train_dir = data_dir + \"train/\"\n",
        "validation_dir = data_dir + \"test/\""
      ],
      "execution_count": 0,
      "outputs": []
    },
    {
      "cell_type": "code",
      "metadata": {
        "id": "jzn6ihBDM-w2",
        "colab_type": "code",
        "colab": {}
      },
      "source": [
        "##Get the picture data under the corresponding path folder\n",
        "def load_data(dir_path):\n",
        "    images=[] ##Create an empty list to store the picture collection\n",
        "    labels=[] ##Create an empty list to store the tag set\n",
        "    no5_imgs=[] ##Create an empty list to store the fifth picture under each folder\n",
        "    labels_no5=[] ##Create an empty list to store the folder name corresponding to the fifth picture\n",
        "    lab=os.listdir(dir_path)\n",
        "    n=0\n",
        "    for l in lab:\n",
        "      img=os.listdir(dir_path+l) ##img is the folder under the corresponding path\n",
        "      for i in img:\n",
        "          img_path=dir_path+l+'/'+i ##If yes, get the image path\n",
        "          labels.append(int(n)) ##Store the iteration number n of the outer loop in labels\n",
        "          images.append(skimage.io.imread(img_path)) ##Read the corresponding path image and store it in datasets\n",
        "      n+=1\n",
        "      no5_img=format_path(img) ##Arrange the pictures in the correct order to facilitate the fifth picture\n",
        "      img5_path=dir_path+l+'/'+no5_img\n",
        "      labels_no5.append(l)\n",
        "      no5_imgs.append(skimage.io.imread(img5_path)) ##The fifth picture of each category is read out and stored in the data set no5_imgs\n",
        "    return images,labels,no5_imgs,labels_no5 ##The storage order of the images in the returned images is different from the storage order in the actual folder"
      ],
      "execution_count": 0,
      "outputs": []
    },
    {
      "cell_type": "code",
      "metadata": {
        "id": "IoIl-3pINxcO",
        "colab_type": "code",
        "colab": {}
      },
      "source": [
        "##Function for sequentially reading files in a folder\n",
        "def format_path(img):  ## img is the result of os.listdir (label folder)   \n",
        "    yes_int=[] ##The new list is used to store the file name of the first item that can be converted into an integer\n",
        "    for s in range(len(img)): ##Iterate\n",
        "        img[s] = img[s].split('_') ##Separate file names with \"_\" as a separator\n",
        "        if(is_number(img[s][0])): ##Determine whether the first part of the file name can be converted to an integer\n",
        "            img[s][0]=int(img[s][0]) ##Convert the first part of the file name to an integer\n",
        "            yes_int.append(img[s]) ##Put the file name in the list without r\n",
        "    yes_int.sort() ##Sort the list of file names that can be converted to integer\n",
        "    for yi in range(len(yes_int)): ##variable\n",
        "        yes_int[yi][0]=str(yes_int[yi][0]) ##Convert the previous part to integer and then back to the string\n",
        "        yes_int[yi]=yes_int[yi][0]+'_'+yes_int[yi][1] ##Perform stitching\n",
        "    no5_img=yes_int[4]\n",
        "    return no5_img"
      ],
      "execution_count": 0,
      "outputs": []
    },
    {
      "cell_type": "code",
      "metadata": {
        "id": "Ef0GmLQ-Ny3Y",
        "colab_type": "code",
        "colab": {}
      },
      "source": [
        "##Determine whether a piece of data can be converted to plastic\n",
        "def is_number(s):\n",
        "    try:\n",
        "        float(s)\n",
        "        return True\n",
        "    except ValueError:\n",
        "        pass\n",
        " \n",
        "    try:\n",
        "        import unicodedata\n",
        "        unicodedata.numeric(s)\n",
        "        return True\n",
        "    except (TypeError, ValueError):\n",
        "        pass\n",
        " \n",
        "    return False"
      ],
      "execution_count": 0,
      "outputs": []
    },
    {
      "cell_type": "code",
      "metadata": {
        "id": "42owZfrFNaPR",
        "colab_type": "code",
        "outputId": "7889a769-ad64-4a51-8ec0-2fe0df460382",
        "colab": {
          "base_uri": "https://localhost:8080/",
          "height": 34
        }
      },
      "source": [
        "##Final train data set and label\n",
        "images,labels,no5_imgs,labels_no5 = load_data(train_dir)\n",
        "print(len(images),len(labels),len(no5_imgs))"
      ],
      "execution_count": 0,
      "outputs": [
        {
          "output_type": "stream",
          "text": [
            "30468 30468 60\n"
          ],
          "name": "stdout"
        }
      ]
    },
    {
      "cell_type": "code",
      "metadata": {
        "id": "S3sJcu4mOGLK",
        "colab_type": "code",
        "outputId": "6d15f15a-d0a9-403c-d2f5-88e847597d87",
        "colab": {
          "base_uri": "https://localhost:8080/",
          "height": 34
        }
      },
      "source": [
        "\n",
        "##Final test data set and label\n",
        "images_test,labels_test,no5_imgs_test,labels_no5_test = load_data(validation_dir)\n",
        "print(len(images_test),len(labels_test),len(no5_imgs_test),len(labels_no5_test))"
      ],
      "execution_count": 0,
      "outputs": [
        {
          "output_type": "stream",
          "text": [
            "10332 10332 60 60\n"
          ],
          "name": "stdout"
        }
      ]
    },
    {
      "cell_type": "code",
      "metadata": {
        "id": "TCcaBQl0Pzpo",
        "colab_type": "code",
        "colab": {}
      },
      "source": [
        "##Define the fifth picture visualization function\n",
        "import random\n",
        "def display_no5_img(no5_imgs,labels_no5):\n",
        "    fig = plt.figure(figsize=(15,15)) ##The displayed size is15*15\n",
        "    for i in range(len(labels_no5)):\n",
        "        plt.subplot(11,7,(i+1)) ##Displayed as 11 lines, 7 per line\n",
        "        plt.title(\"{0}\".format(labels_no5[i])) ##Show title\n",
        "        plt.imshow(no5_imgs[i])  ##display image\n",
        "        plt.axis('off') ##Don't show axis\n",
        "    plt.show()"
      ],
      "execution_count": 0,
      "outputs": []
    },
    {
      "cell_type": "code",
      "metadata": {
        "id": "wO8wVwZMP2-0",
        "colab_type": "code",
        "colab": {}
      },
      "source": [
        "##Call display function\n",
        "import random\n",
        "def display_no5_img_4(dict_no5):\n",
        "  fig = plt.figure(figsize=(15,15)) ##The displayed size is 15*15\n",
        "  for i in range(len(dict_no5)):\n",
        "    # print(i) //Subscript of dictionary list\n",
        "    # print(dict_list_no5[i][0])//Picture title\n",
        "    # print(dict_list_no5[i][1])//Picture matrix\n",
        "    plt.subplot(11,7,(i+1))\n",
        "    label = dict_no5[i][0]\n",
        "    img = dict_no5[i][1]\n",
        "    plt.title(\"{0}\".format(label))\n",
        "    plt.imshow(img)\n",
        "  plt.show()"
      ],
      "execution_count": 0,
      "outputs": []
    },
    {
      "cell_type": "markdown",
      "metadata": {
        "id": "lAOYlux8P1Wn",
        "colab_type": "text"
      },
      "source": [
        "show random 4 picture and the class name"
      ]
    },
    {
      "cell_type": "code",
      "metadata": {
        "id": "H2gyaNIWvqcp",
        "colab_type": "code",
        "outputId": "0ee0165a-16c5-4059-a7b0-108079f55c1d",
        "colab": {
          "base_uri": "https://localhost:8080/",
          "height": 127
        }
      },
      "source": [
        "dict_no5 = zip(labels_no5,no5_imgs)\n",
        "dict_list_no5 = list(dict_no5) \n",
        "random_list = random.sample(dict_list_no5,4)\n",
        "display_no5_img_4(random_list)"
      ],
      "execution_count": 0,
      "outputs": [
        {
          "output_type": "display_data",
          "data": {
            "image/png": "[encoded data removed]",
            "text/plain": [
              "<Figure size 1080x1080 with 4 Axes>"
            ]
          },
          "metadata": {
            "tags": [],
            "needs_background": "light"
          }
        }
      ]
    },
    {
      "cell_type": "markdown",
      "metadata": {
        "id": "kSJshqxly15d",
        "colab_type": "text"
      },
      "source": [
        "Since the data set of 77 kinds of fruits has more than 30,000 pictures, my computer can't bear the training of so many pictures, so I only select the first 20 categories in the dataset for training"
      ]
    },
    {
      "cell_type": "markdown",
      "metadata": {
        "id": "V9E4tBXlKrZI",
        "colab_type": "text"
      },
      "source": [
        "Preprocess the dataset\n",
        "We need to augment the data, since we do not have many images per classes. Create an augmentation mechanism, data automatically does the following transformations during training:\n",
        "\n",
        "flip images horizontally\n",
        "rotates them\n",
        "performs zooming"
      ]
    },
    {
      "cell_type": "code",
      "metadata": {
        "id": "s1HQpHG0lXPi",
        "colab_type": "code",
        "colab": {}
      },
      "source": [
        "##Since the data set is too large, first load a small part for training, n represents several classes\n",
        "def load_small_data(dir_path,m):\n",
        "    images_m=[] ##Create an empty list to store the picture collection\n",
        "    labels_m=[] ##Create an empty list to store the tag set\n",
        "    lab=os.listdir(dir_path)\n",
        "    n=0\n",
        "    for l in lab:\n",
        "        if(n>=m):\n",
        "            break\n",
        "        img=os.listdir(dir_path+l) ##img is the folder under the corresponding path\n",
        "        for i in img:\n",
        "            img_path=dir_path+l+'/'+i ##If yes, get the image path\n",
        "            labels_m.append(int(n)) ##Convert the upper folder of the picture to int type and store it in labels\n",
        "            images_m.append(skimage.io.imread(img_path)) ##Read the corresponding path image and store it in images_m\n",
        "        n+=1\n",
        "    return images_m,labels_m ## Class m labels and data"
      ],
      "execution_count": 0,
      "outputs": []
    },
    {
      "cell_type": "markdown",
      "metadata": {
        "id": "3rAd-SoNy9Y3",
        "colab_type": "text"
      },
      "source": [
        "In the field of image processing, there are many ways, such as image denoising, translation, inversion, grayscale, cropping, etc., there will be some related processing functions below, but I did not use it in this experiment These above-mentioned processing methods simply convert the image data set into an array form, and chase it out of order, and perform keras unique encoding on the transition data set. I have used the grayscale image data set to train the model, and the result is that the accuracy of the test set prediction is reduced"
      ]
    },
    {
      "cell_type": "code",
      "metadata": {
        "id": "iA7uuT8FyBeK",
        "colab_type": "code",
        "colab": {}
      },
      "source": [
        "images_20,labels_20=load_small_data(train_dir,20) ##Training set\n",
        "images_test_20,labels_test_20=load_small_data(validation_dir,20) ##Test set"
      ],
      "execution_count": 0,
      "outputs": []
    },
    {
      "cell_type": "code",
      "metadata": {
        "id": "SuSbWsJgzLAX",
        "colab_type": "code",
        "colab": {}
      },
      "source": [
        "##Use list comprehension to complete batch cropping of images\n",
        "def cut_image(images,w,h):\n",
        "    new_images=[skimage.transform.resize(I,(w,h)) for I in images]\n",
        "    return new_images"
      ],
      "execution_count": 0,
      "outputs": []
    },
    {
      "cell_type": "code",
      "metadata": {
        "id": "9pBIpv2EzMvk",
        "colab_type": "code",
        "colab": {}
      },
      "source": [
        "##Preprocessing data functions (arraying, out of order)\n",
        "def prepare_data(images,labels,n_classes):\n",
        "    ##images64=cut_image(images,64,64) ##Crop picture size is 64 * 64\n",
        "    train_x=np.array(images)\n",
        "    train_y=np.array(labels)\n",
        "    ##images_gray=color.rgb2gray(images_a) ##Grayscale\n",
        "    indx=np.arange(0,train_y.shape[0])\n",
        "    indx=shuffle(indx)\n",
        "    train_x=train_x[indx]\n",
        "    train_y=train_y[indx]\n",
        "    train_y=keras.utils.to_categorical(train_y,n_classes) ##one-hot coding\n",
        "    return train_x,train_y"
      ],
      "execution_count": 0,
      "outputs": []
    },
    {
      "cell_type": "code",
      "metadata": {
        "id": "J7AWE_ThzPfn",
        "colab_type": "code",
        "colab": {}
      },
      "source": [
        "##Training set data preprocessing\n",
        "train_x,train_y=prepare_data(images_20,labels_20,20)\n",
        "##Test data set and label array and out of order\n",
        "test_x,test_y=prepare_data(images_test_20,labels_test_20,20)"
      ],
      "execution_count": 0,
      "outputs": []
    },
    {
      "cell_type": "markdown",
      "metadata": {
        "id": "m3t2dGOtzUTj",
        "colab_type": "text"
      },
      "source": [
        "## Construction of Tensorflow convolutional neural network\n",
        "My convolutional neural network is a two-layer convolution pooling built with the classic model LeNet-5 model, three layers are fully connected, and the code has detailed comments\n"
      ]
    },
    {
      "cell_type": "markdown",
      "metadata": {
        "id": "DQUDa5G4XCEM",
        "colab_type": "text"
      },
      "source": [
        "Training the network\n",
        "Implement and train the following architecture. It has the following layers:\n",
        "\n",
        "A convolutional layer with 5x5 kernel and 32 filters\n",
        "A 2x2 MaxPooling layer\n",
        "Two convolutional layers with 3x3 kernels and 64 filters each\n",
        "A MaxPooling layer\n",
        "Another 3x3 convolutional layer with 128 filters, followed by a MaxPooling layer\n",
        "A fully connected layer of 512 units\n",
        "A final softmax layer\n",
        "All layers have ReLU activations. Train the network for 15 epochs."
      ]
    },
    {
      "cell_type": "code",
      "metadata": {
        "id": "EouooFlVzwKh",
        "colab_type": "code",
        "colab": {}
      },
      "source": [
        "import tensorflow.compat.v1 as tf\n",
        "tf.disable_v2_behavior()"
      ],
      "execution_count": 0,
      "outputs": []
    },
    {
      "cell_type": "code",
      "metadata": {
        "id": "JZzTqcvvzWrJ",
        "colab_type": "code",
        "colab": {}
      },
      "source": [
        "## Configure the parameters of the neural network\n",
        "n_classes=20 ##Number of data categories\n",
        "batch_size=128 ##Training block size\n",
        "kernel_h=kernel_w=5 ##Convolution kernel size\n",
        "dropout=0.8 ##dropout probability\n",
        "depth_in=3 ##Picture channels\n",
        "depth_out1=64 ##Number of convolution kernels in the first layer of convolution\n",
        "depth_out2=128 ##Number of convolution kernels in the second layer of convolution\n",
        "image_size=train_x.shape[1] ##size of the picture\n",
        "n_sample=train_x.shape[0] ##Number of training samples\n",
        "t_sample=test_x.shape[0] ##Number of test samples\n",
        " \n",
        "##Feed image data types and shapes for neural networks, four-dimensional, the amount of training data in the first dimension, the size of the second and three-dimensional pictures,\n",
        "# and the number of image channels in the fourth dimension\n",
        "x=tf.placeholder(tf.float32,[None,100,100,3]) \n",
        "y=tf.placeholder(tf.float32,[None,n_classes]) ##The type and shape of label data feed to the neural network\n",
        "keep_prob=tf.placeholder(tf.float32) ##ddropout placeholder (solve overfitting)\n",
        "fla=int((image_size*image_size/16)*depth_out2) ##The size of the image used for the flattening process after\n",
        "# the two-layer convolution pooling * the number of convolution kernels in the second layer defines the weight variables of each convolution layer and the fully connected layer\n",
        "Weights={\"con1_w\":tf.Variable(tf.random_normal([kernel_h,kernel_w,depth_in,depth_out1])),\n",
        "         \"con2_w\":tf.Variable(tf.random_normal([kernel_h,kernel_w,depth_out1,depth_out2])),\n",
        "        \"fc_w1\":tf.Variable(tf.random_normal([int((image_size*image_size/16)*depth_out2),1024])),\n",
        "        \"fc_w2\":tf.Variable(tf.random_normal([1024,512])),\n",
        "        \"out\":tf.Variable(tf.random_normal([512,n_classes]))}\n",
        " \n",
        "##Define offset variables for each convolutional layer and fully connected layer\n",
        "bias={\"conv1_b\":tf.Variable(tf.random_normal([depth_out1])),\n",
        "      \"conv2_b\":tf.Variable(tf.random_normal([depth_out2])),\n",
        "      \"fc_b1\":tf.Variable(tf.random_normal([1024])),\n",
        "      \"fc_b2\":tf.Variable(tf.random_normal([512])),\n",
        "      \"out\":tf.Variable(tf.random_normal([n_classes]))}"
      ],
      "execution_count": 0,
      "outputs": []
    },
    {
      "cell_type": "code",
      "metadata": {
        "id": "Zo-iWKBuzpT6",
        "colab_type": "code",
        "colab": {}
      },
      "source": [
        "## Define the generation function of the convolutional layer\n",
        "def conv2d(x,W,b,stride=1):\n",
        "    x=tf.nn.conv2d(x,W,strides=[1,stride,stride,1],padding=\"SAME\")\n",
        "    x=tf.nn.bias_add(x,b)\n",
        "    return tf.nn.relu(x)\n",
        " \n",
        "## Define the generation function of the pooling layer\n",
        "def maxpool2d(x,stride=2):\n",
        "    return tf.nn.max_pool(x,ksize=[1,stride,stride,1],strides=[1,stride,stride,1],padding=\"SAME\")\n",
        " \n",
        "## Define the generation function of convolutional neural network\n",
        "def conv_net(x,weights,biases,dropout):\n",
        "    \n",
        "    ## Convolutional layer 1\n",
        "    conv1 = conv2d(x,Weights['con1_w'],bias['conv1_b']) ##100*100*64\n",
        "    conv1 = maxpool2d(conv1,2) ##After pooling layer 1 shape：50*50*64\n",
        "     \n",
        "    ## Convolutional layer 2\n",
        "    conv2 = conv2d(conv1,Weights['con2_w'],bias['conv2_b']) ##50*50*128\n",
        "    conv2 = maxpool2d(conv2,2) ##After pooling layer 2 shape:25*25*128\n",
        "    ## Fully connected layer 1(\n",
        "    flatten = tf.reshape(conv2,[-1,fla]) ##Flatten\n",
        "    fc1 = tf.add(tf.matmul(flatten,Weights['fc_w1']),bias['fc_b1'])\n",
        "    fc1 = tf.nn.relu(fc1) ##After relu activation function\n",
        "    print(flatten.get_shape())\n",
        "    ## Fully connected layer 2\n",
        "    fc2 = tf.add(tf.matmul(fc1,Weights['fc_w2']),bias['fc_b2']) ##Calculation formula: output parameter = input parameter * weight + offset\n",
        "    fc2 = tf.nn.relu(fc2) ##After relu activation function\n",
        "    \n",
        "    ## Dropout layer prevents overfitting of predicted data\n",
        "    fc2 = tf.nn.dropout(fc2,dropout)\n",
        "    ## Output class prediction\n",
        "    prediction = tf.add(tf.matmul(fc2,Weights['out']),bias['out']) ##Output prediction parameters\n",
        "    return prediction"
      ],
      "execution_count": 0,
      "outputs": []
    },
    {
      "cell_type": "code",
      "metadata": {
        "id": "TcflK-6L0Hm7",
        "colab_type": "code",
        "outputId": "caa7982b-4c7d-4753-fce2-83a3b7f0b9ec",
        "colab": {
          "base_uri": "https://localhost:8080/",
          "height": 105
        }
      },
      "source": [
        "## Optimize prediction accuracy\n",
        "prediction=conv_net(x,Weights,bias,keep_prob) ##Generate convolutional neural network\n",
        "cross_entropy=tf.reduce_mean(tf.nn.softmax_cross_entropy_with_logits_v2(logits=prediction,labels=y)) ##Cross entropy loss function\n",
        "optimizer=tf.train.AdamOptimizer(0.0009).minimize(cross_entropy) ##Choose optimizer and learning rate\n",
        "##optimizer=tf.train.GradientDescentOptimizer(0.1).minimize(cross_entropy)\n",
        "##optimizer=tf.train.AdagradOptimizer(0.001).minimize(cross_entropy) ##Choose optimizer and learning rate\n",
        " \n",
        "## Evaluation model\n",
        "correct_pred=tf.equal(tf.argmax(prediction,1),tf.argmax(y,1))\n",
        "accuracy=tf.reduce_mean(tf.cast(correct_pred,tf.float32))"
      ],
      "execution_count": 0,
      "outputs": [
        {
          "output_type": "stream",
          "text": [
            "(?, 80000)\n",
            "WARNING:tensorflow:From <ipython-input-155-c5957190636a>:30: calling dropout (from tensorflow.python.ops.nn_ops) with keep_prob is deprecated and will be removed in a future version.\n",
            "Instructions for updating:\n",
            "Please use `rate` instead of `keep_prob`. Rate should be set to `rate = 1 - keep_prob`.\n"
          ],
          "name": "stdout"
        }
      ]
    },
    {
      "cell_type": "markdown",
      "metadata": {
        "id": "-D6M5vJn0NbS",
        "colab_type": "text"
      },
      "source": [
        "Here is a small function to divide the training data into n pieces of small data and feed it to the neural network"
      ]
    },
    {
      "cell_type": "code",
      "metadata": {
        "id": "cJo7ZJcI0N-W",
        "colab_type": "code",
        "colab": {}
      },
      "source": [
        "##Training block data generator\n",
        "def gen_small_data(inputs,batch_size):\n",
        "    i=0\n",
        "    while True:\n",
        "        small_data=inputs[i:(batch_size+i)]\n",
        "        i+=batch_size\n",
        "        yield small_data"
      ],
      "execution_count": 0,
      "outputs": []
    },
    {
      "cell_type": "markdown",
      "metadata": {
        "id": "_8Bl3I7t0RUl",
        "colab_type": "text"
      },
      "source": [
        "Training data and view the accuracy of the model on the test set"
      ]
    },
    {
      "cell_type": "markdown",
      "metadata": {
        "id": "hSKbzGBKK6oB",
        "colab_type": "text"
      },
      "source": [
        "Finally, calculate the performance of your model on the test set:"
      ]
    },
    {
      "cell_type": "code",
      "metadata": {
        "id": "E2H0dimB0TBK",
        "colab_type": "code",
        "outputId": "c78ba734-bbd6-4605-d50c-0c4f954291ad",
        "colab": {
          "base_uri": "https://localhost:8080/",
          "height": 1000
        }
      },
      "source": [
        "## Initial session and start training process\n",
        "with tf.Session() as sess:\n",
        "    tf.global_variables_initializer().run()   \n",
        "    for  i  in range(5):\n",
        "        train_x,train_y=prepare_data(images_20,labels_20,20) ##Re-process data\n",
        "        train_x=gen_small_data(train_x,batch_size) ##Generate image block data\n",
        "        train_y=gen_small_data(train_y,batch_size) ##Generate label block data\n",
        "        for j in range(int(n_sample/batch_size)+1):\n",
        "            x_=next(train_x) \n",
        "            y_=next(train_y)\n",
        "            ##Prepare verification data\n",
        "            validate_feed={x:x_,y:y_,keep_prob:0.8}\n",
        "            if i % 1 == 0:\n",
        "                sess.run(optimizer, feed_dict=validate_feed)\n",
        "                loss,acc = sess.run([cross_entropy,accuracy],feed_dict={x:x_,y:y_,keep_prob:0.8})\n",
        "                print(\"Epoch:\", '%04d' % (i+1),\"cost=\", \"{:.9f}\".format(loss),\"Training accuracy\",\"{:.5f}\".format(acc))\n",
        "    print('Optimization Completed')\n",
        "    ##Prepare test data\n",
        "    test_x=test_x[0:400]\n",
        "    test_y=test_y[0:400]\n",
        "    test_feed={x:test_x,y:test_y,keep_prob: 0.8} \n",
        "    y1 = sess.run(prediction,feed_dict=test_feed)\n",
        "    test_classes = np.argmax(y1,1)\n",
        "    print('Testing Accuracy:',sess.run(accuracy,feed_dict=test_feed))"
      ],
      "execution_count": 0,
      "outputs": [
        {
          "output_type": "stream",
          "text": [
            "Epoch: 0001 cost= 5273939968.000000000 Training accuracy 0.05469\n",
            "Epoch: 0001 cost= 5227146752.000000000 Training accuracy 0.09375\n",
            "Epoch: 0001 cost= 4303745024.000000000 Training accuracy 0.07812\n",
            "Epoch: 0001 cost= 3626212608.000000000 Training accuracy 0.10938\n",
            "Epoch: 0001 cost= 3233377280.000000000 Training accuracy 0.10938\n",
            "Epoch: 0001 cost= 3402319360.000000000 Training accuracy 0.10156\n",
            "Epoch: 0001 cost= 2790237184.000000000 Training accuracy 0.17969\n",
            "Epoch: 0001 cost= 2929535488.000000000 Training accuracy 0.10156\n",
            "Epoch: 0001 cost= 2273450496.000000000 Training accuracy 0.19531\n",
            "Epoch: 0001 cost= 2472119808.000000000 Training accuracy 0.14844\n",
            "Epoch: 0001 cost= 1696453376.000000000 Training accuracy 0.20312\n",
            "Epoch: 0001 cost= 1579098496.000000000 Training accuracy 0.17188\n",
            "Epoch: 0001 cost= 1449255680.000000000 Training accuracy 0.21094\n",
            "Epoch: 0001 cost= 1155407360.000000000 Training accuracy 0.29688\n",
            "Epoch: 0001 cost= 1499905536.000000000 Training accuracy 0.22656\n",
            "Epoch: 0001 cost= 1194873600.000000000 Training accuracy 0.35938\n",
            "Epoch: 0001 cost= 1225108608.000000000 Training accuracy 0.32031\n",
            "Epoch: 0001 cost= 1060923648.000000000 Training accuracy 0.32812\n",
            "Epoch: 0001 cost= 980649344.000000000 Training accuracy 0.35156\n",
            "Epoch: 0001 cost= 792245952.000000000 Training accuracy 0.39062\n",
            "Epoch: 0001 cost= 654004352.000000000 Training accuracy 0.47656\n",
            "Epoch: 0001 cost= 606043392.000000000 Training accuracy 0.49219\n",
            "Epoch: 0001 cost= 508805280.000000000 Training accuracy 0.46875\n",
            "Epoch: 0001 cost= 469810432.000000000 Training accuracy 0.51562\n",
            "Epoch: 0001 cost= 632371264.000000000 Training accuracy 0.48438\n",
            "Epoch: 0001 cost= 444855872.000000000 Training accuracy 0.50000\n",
            "Epoch: 0001 cost= 394481728.000000000 Training accuracy 0.50781\n",
            "Epoch: 0001 cost= 380394816.000000000 Training accuracy 0.50781\n",
            "Epoch: 0001 cost= 397119424.000000000 Training accuracy 0.53125\n",
            "Epoch: 0001 cost= 348213952.000000000 Training accuracy 0.59375\n",
            "Epoch: 0001 cost= 272800288.000000000 Training accuracy 0.59375\n",
            "Epoch: 0001 cost= 288812160.000000000 Training accuracy 0.66406\n",
            "Epoch: 0001 cost= 311047936.000000000 Training accuracy 0.64844\n",
            "Epoch: 0001 cost= 325563648.000000000 Training accuracy 0.61719\n",
            "Epoch: 0001 cost= 234320944.000000000 Training accuracy 0.72656\n",
            "Epoch: 0001 cost= 286300160.000000000 Training accuracy 0.57812\n",
            "Epoch: 0001 cost= 280395200.000000000 Training accuracy 0.64062\n",
            "Epoch: 0001 cost= 175049568.000000000 Training accuracy 0.67188\n",
            "Epoch: 0001 cost= 156662048.000000000 Training accuracy 0.72656\n",
            "Epoch: 0001 cost= 120798240.000000000 Training accuracy 0.74219\n",
            "Epoch: 0001 cost= 119423984.000000000 Training accuracy 0.77344\n",
            "Epoch: 0001 cost= 144995280.000000000 Training accuracy 0.74219\n",
            "Epoch: 0001 cost= 143743296.000000000 Training accuracy 0.76562\n",
            "Epoch: 0001 cost= 124281392.000000000 Training accuracy 0.74219\n",
            "Epoch: 0001 cost= 117901000.000000000 Training accuracy 0.76562\n",
            "Epoch: 0001 cost= 100704536.000000000 Training accuracy 0.78125\n",
            "Epoch: 0001 cost= 80937824.000000000 Training accuracy 0.82031\n",
            "Epoch: 0001 cost= 95177744.000000000 Training accuracy 0.80469\n",
            "Epoch: 0001 cost= 94877984.000000000 Training accuracy 0.82812\n",
            "Epoch: 0001 cost= 90498552.000000000 Training accuracy 0.84375\n",
            "Epoch: 0001 cost= 96368568.000000000 Training accuracy 0.82812\n",
            "Epoch: 0001 cost= 62871900.000000000 Training accuracy 0.82031\n",
            "Epoch: 0001 cost= 83273024.000000000 Training accuracy 0.78906\n",
            "Epoch: 0001 cost= 81397456.000000000 Training accuracy 0.77344\n",
            "Epoch: 0001 cost= 94600488.000000000 Training accuracy 0.80469\n",
            "Epoch: 0001 cost= 57742504.000000000 Training accuracy 0.85938\n",
            "Epoch: 0001 cost= 106128816.000000000 Training accuracy 0.79688\n",
            "Epoch: 0001 cost= 102349624.000000000 Training accuracy 0.78906\n",
            "Epoch: 0001 cost= 66608792.000000000 Training accuracy 0.82812\n",
            "Epoch: 0001 cost= 63554304.000000000 Training accuracy 0.85156\n",
            "Epoch: 0001 cost= 77999904.000000000 Training accuracy 0.82031\n",
            "Epoch: 0001 cost= 99094512.000000000 Training accuracy 0.77344\n",
            "Epoch: 0001 cost= 89538192.000000000 Training accuracy 0.82031\n",
            "Epoch: 0001 cost= 66692932.000000000 Training accuracy 0.82812\n",
            "Epoch: 0001 cost= 61912816.000000000 Training accuracy 0.83594\n",
            "Epoch: 0001 cost= 50092920.000000000 Training accuracy 0.87500\n",
            "Epoch: 0001 cost= 68971528.000000000 Training accuracy 0.89844\n",
            "Epoch: 0001 cost= 88660512.000000000 Training accuracy 0.85156\n",
            "Epoch: 0001 cost= 103721520.000000000 Training accuracy 0.83594\n",
            "Epoch: 0001 cost= 24449496.000000000 Training accuracy 0.89844\n",
            "Epoch: 0001 cost= 87978704.000000000 Training accuracy 0.79688\n",
            "Epoch: 0001 cost= 29644400.000000000 Training accuracy 0.89844\n",
            "Epoch: 0001 cost= 74737376.000000000 Training accuracy 0.85156\n",
            "Epoch: 0001 cost= 80402960.000000000 Training accuracy 0.83594\n",
            "Epoch: 0001 cost= 43270400.000000000 Training accuracy 0.88281\n",
            "Epoch: 0001 cost= 52083068.000000000 Training accuracy 0.85156\n",
            "Epoch: 0001 cost= 61808144.000000000 Training accuracy 0.85156\n",
            "Epoch: 0001 cost= 34878784.000000000 Training accuracy 0.91406\n",
            "Epoch: 0001 cost= 34258504.000000000 Training accuracy 0.87931\n",
            "Epoch: 0002 cost= 38494512.000000000 Training accuracy 0.88281\n",
            "Epoch: 0002 cost= 36140256.000000000 Training accuracy 0.89062\n",
            "Epoch: 0002 cost= 23440168.000000000 Training accuracy 0.91406\n",
            "Epoch: 0002 cost= 27932982.000000000 Training accuracy 0.88281\n",
            "Epoch: 0002 cost= 30810076.000000000 Training accuracy 0.92188\n",
            "Epoch: 0002 cost= 44658976.000000000 Training accuracy 0.87500\n",
            "Epoch: 0002 cost= 23701584.000000000 Training accuracy 0.92969\n",
            "Epoch: 0002 cost= 16393685.000000000 Training accuracy 0.92969\n",
            "Epoch: 0002 cost= 39323096.000000000 Training accuracy 0.89062\n",
            "Epoch: 0002 cost= 46453472.000000000 Training accuracy 0.86719\n",
            "Epoch: 0002 cost= 49088184.000000000 Training accuracy 0.86719\n",
            "Epoch: 0002 cost= 12229734.000000000 Training accuracy 0.95312\n",
            "Epoch: 0002 cost= 30263864.000000000 Training accuracy 0.87500\n",
            "Epoch: 0002 cost= 21996884.000000000 Training accuracy 0.92188\n",
            "Epoch: 0002 cost= 28723626.000000000 Training accuracy 0.93750\n",
            "Epoch: 0002 cost= 19453932.000000000 Training accuracy 0.90625\n",
            "Epoch: 0002 cost= 33816840.000000000 Training accuracy 0.91406\n",
            "Epoch: 0002 cost= 27124112.000000000 Training accuracy 0.93750\n",
            "Epoch: 0002 cost= 17649404.000000000 Training accuracy 0.92188\n",
            "Epoch: 0002 cost= 40379704.000000000 Training accuracy 0.88281\n",
            "Epoch: 0002 cost= 14603254.000000000 Training accuracy 0.96875\n",
            "Epoch: 0002 cost= 22572372.000000000 Training accuracy 0.92188\n",
            "Epoch: 0002 cost= 19583984.000000000 Training accuracy 0.92969\n",
            "Epoch: 0002 cost= 17506020.000000000 Training accuracy 0.90625\n",
            "Epoch: 0002 cost= 23608048.000000000 Training accuracy 0.92969\n",
            "Epoch: 0002 cost= 39386960.000000000 Training accuracy 0.91406\n",
            "Epoch: 0002 cost= 32802600.000000000 Training accuracy 0.87500\n",
            "Epoch: 0002 cost= 23046518.000000000 Training accuracy 0.89844\n",
            "Epoch: 0002 cost= 16314325.000000000 Training accuracy 0.92969\n",
            "Epoch: 0002 cost= 14159420.000000000 Training accuracy 0.94531\n",
            "Epoch: 0002 cost= 32546836.000000000 Training accuracy 0.92188\n",
            "Epoch: 0002 cost= 29297064.000000000 Training accuracy 0.90625\n",
            "Epoch: 0002 cost= 11053422.000000000 Training accuracy 0.94531\n",
            "Epoch: 0002 cost= 33440676.000000000 Training accuracy 0.90625\n",
            "Epoch: 0002 cost= 32023470.000000000 Training accuracy 0.91406\n",
            "Epoch: 0002 cost= 20672944.000000000 Training accuracy 0.92969\n",
            "Epoch: 0002 cost= 28156294.000000000 Training accuracy 0.92188\n",
            "Epoch: 0002 cost= 22814876.000000000 Training accuracy 0.92188\n",
            "Epoch: 0002 cost= 26919038.000000000 Training accuracy 0.92188\n",
            "Epoch: 0002 cost= 14161128.000000000 Training accuracy 0.93750\n",
            "Epoch: 0002 cost= 23382092.000000000 Training accuracy 0.93750\n",
            "Epoch: 0002 cost= 25107762.000000000 Training accuracy 0.89062\n",
            "Epoch: 0002 cost= 24108686.000000000 Training accuracy 0.93750\n",
            "Epoch: 0002 cost= 7529065.000000000 Training accuracy 0.94531\n",
            "Epoch: 0002 cost= 24095456.000000000 Training accuracy 0.95312\n",
            "Epoch: 0002 cost= 11524764.000000000 Training accuracy 0.96094\n",
            "Epoch: 0002 cost= 11749181.000000000 Training accuracy 0.96094\n",
            "Epoch: 0002 cost= 15761763.000000000 Training accuracy 0.93750\n",
            "Epoch: 0002 cost= 10941417.000000000 Training accuracy 0.94531\n",
            "Epoch: 0002 cost= 11707023.000000000 Training accuracy 0.94531\n",
            "Epoch: 0002 cost= 0.000000000 Training accuracy 1.00000\n",
            "Epoch: 0002 cost= 9614063.000000000 Training accuracy 0.96094\n",
            "Epoch: 0002 cost= 21664592.000000000 Training accuracy 0.91406\n",
            "Epoch: 0002 cost= 9557296.000000000 Training accuracy 0.95312\n",
            "Epoch: 0002 cost= 7762522.500000000 Training accuracy 0.95312\n",
            "Epoch: 0002 cost= 10844942.000000000 Training accuracy 0.93750\n",
            "Epoch: 0002 cost= 29227862.000000000 Training accuracy 0.92969\n",
            "Epoch: 0002 cost= 6366364.000000000 Training accuracy 0.95312\n",
            "Epoch: 0002 cost= 5589639.000000000 Training accuracy 0.97656\n",
            "Epoch: 0002 cost= 5165593.500000000 Training accuracy 0.97656\n",
            "Epoch: 0002 cost= 8373940.500000000 Training accuracy 0.96094\n",
            "Epoch: 0002 cost= 8938311.000000000 Training accuracy 0.96094\n",
            "Epoch: 0002 cost= 16947290.000000000 Training accuracy 0.94531\n",
            "Epoch: 0002 cost= 17965976.000000000 Training accuracy 0.95312\n",
            "Epoch: 0002 cost= 16293325.000000000 Training accuracy 0.94531\n",
            "Epoch: 0002 cost= 24668476.000000000 Training accuracy 0.89844\n",
            "Epoch: 0002 cost= 17885080.000000000 Training accuracy 0.92188\n",
            "Epoch: 0002 cost= 8725278.000000000 Training accuracy 0.95312\n",
            "Epoch: 0002 cost= 8677067.000000000 Training accuracy 0.96094\n",
            "Epoch: 0002 cost= 3859769.500000000 Training accuracy 0.98438\n",
            "Epoch: 0002 cost= 25916828.000000000 Training accuracy 0.92188\n",
            "Epoch: 0002 cost= 7375516.000000000 Training accuracy 0.95312\n",
            "Epoch: 0002 cost= 11066028.000000000 Training accuracy 0.95312\n",
            "Epoch: 0002 cost= 16764631.000000000 Training accuracy 0.95312\n",
            "Epoch: 0002 cost= 6666639.000000000 Training accuracy 0.96875\n",
            "Epoch: 0002 cost= 2900268.000000000 Training accuracy 0.97656\n",
            "Epoch: 0002 cost= 19707574.000000000 Training accuracy 0.95312\n",
            "Epoch: 0002 cost= 7662723.500000000 Training accuracy 0.96094\n",
            "Epoch: 0002 cost= 30247596.000000000 Training accuracy 0.87931\n",
            "Epoch: 0003 cost= 2697992.000000000 Training accuracy 0.98438\n",
            "Epoch: 0003 cost= 3364828.000000000 Training accuracy 0.97656\n",
            "Epoch: 0003 cost= 5993572.000000000 Training accuracy 0.96875\n",
            "Epoch: 0003 cost= 7366224.500000000 Training accuracy 0.97656\n",
            "Epoch: 0003 cost= 8329687.000000000 Training accuracy 0.96094\n",
            "Epoch: 0003 cost= 2283341.000000000 Training accuracy 0.95312\n",
            "Epoch: 0003 cost= 8951800.000000000 Training accuracy 0.95312\n",
            "Epoch: 0003 cost= 9895630.000000000 Training accuracy 0.96875\n",
            "Epoch: 0003 cost= 16750800.000000000 Training accuracy 0.96875\n",
            "Epoch: 0003 cost= 7465739.000000000 Training accuracy 0.96875\n",
            "Epoch: 0003 cost= 2297364.500000000 Training accuracy 0.98438\n",
            "Epoch: 0003 cost= 11620134.000000000 Training accuracy 0.92969\n",
            "Epoch: 0003 cost= 11030639.000000000 Training accuracy 0.95312\n",
            "Epoch: 0003 cost= 14777423.000000000 Training accuracy 0.95312\n",
            "Epoch: 0003 cost= 7116205.500000000 Training accuracy 0.97656\n",
            "Epoch: 0003 cost= 13718251.000000000 Training accuracy 0.94531\n",
            "Epoch: 0003 cost= 12311686.000000000 Training accuracy 0.96094\n",
            "Epoch: 0003 cost= 1798678.000000000 Training accuracy 0.97656\n",
            "Epoch: 0003 cost= 1596697.000000000 Training accuracy 0.98438\n",
            "Epoch: 0003 cost= 7687729.000000000 Training accuracy 0.95312\n",
            "Epoch: 0003 cost= 4926023.000000000 Training accuracy 0.97656\n",
            "Epoch: 0003 cost= 6379731.000000000 Training accuracy 0.96094\n",
            "Epoch: 0003 cost= 12819114.000000000 Training accuracy 0.96094\n",
            "Epoch: 0003 cost= 2327644.000000000 Training accuracy 0.99219\n",
            "Epoch: 0003 cost= 4652634.000000000 Training accuracy 0.97656\n",
            "Epoch: 0003 cost= 17043958.000000000 Training accuracy 0.96875\n",
            "Epoch: 0003 cost= 4535622.000000000 Training accuracy 0.97656\n",
            "Epoch: 0003 cost= 8324037.000000000 Training accuracy 0.95312\n",
            "Epoch: 0003 cost= 5778840.000000000 Training accuracy 0.95312\n",
            "Epoch: 0003 cost= 2253183.000000000 Training accuracy 0.96875\n",
            "Epoch: 0003 cost= 8580826.000000000 Training accuracy 0.93750\n",
            "Epoch: 0003 cost= 1726642.000000000 Training accuracy 0.98438\n",
            "Epoch: 0003 cost= 6013299.000000000 Training accuracy 0.95312\n",
            "Epoch: 0003 cost= 2775529.000000000 Training accuracy 0.97656\n",
            "Epoch: 0003 cost= 22040650.000000000 Training accuracy 0.94531\n",
            "Epoch: 0003 cost= 3373270.000000000 Training accuracy 0.98438\n",
            "Epoch: 0003 cost= 309488.000000000 Training accuracy 0.98438\n",
            "Epoch: 0003 cost= 3046041.000000000 Training accuracy 0.98438\n",
            "Epoch: 0003 cost= 12400106.000000000 Training accuracy 0.94531\n",
            "Epoch: 0003 cost= 5126901.000000000 Training accuracy 0.96875\n",
            "Epoch: 0003 cost= 7839725.000000000 Training accuracy 0.96875\n",
            "Epoch: 0003 cost= 14296836.000000000 Training accuracy 0.94531\n",
            "Epoch: 0003 cost= 18285910.000000000 Training accuracy 0.92188\n",
            "Epoch: 0003 cost= 4854302.000000000 Training accuracy 0.98438\n",
            "Epoch: 0003 cost= 6810858.000000000 Training accuracy 0.96875\n",
            "Epoch: 0003 cost= 4512044.000000000 Training accuracy 0.99219\n",
            "Epoch: 0003 cost= 15769279.000000000 Training accuracy 0.93750\n",
            "Epoch: 0003 cost= 0.000000000 Training accuracy 1.00000\n",
            "Epoch: 0003 cost= 16462266.000000000 Training accuracy 0.92969\n",
            "Epoch: 0003 cost= 10745439.000000000 Training accuracy 0.97656\n",
            "Epoch: 0003 cost= 9779397.000000000 Training accuracy 0.96094\n",
            "Epoch: 0003 cost= 12195324.000000000 Training accuracy 0.98438\n",
            "Epoch: 0003 cost= 0.000000000 Training accuracy 1.00000\n",
            "Epoch: 0003 cost= 7234184.000000000 Training accuracy 0.97656\n",
            "Epoch: 0003 cost= 4871764.000000000 Training accuracy 0.98438\n",
            "Epoch: 0003 cost= 5150468.000000000 Training accuracy 0.98438\n",
            "Epoch: 0003 cost= 8152400.000000000 Training accuracy 0.96875\n",
            "Epoch: 0003 cost= 2024264.000000000 Training accuracy 0.98438\n",
            "Epoch: 0003 cost= 1436938.500000000 Training accuracy 0.97656\n",
            "Epoch: 0003 cost= 2119811.000000000 Training accuracy 0.97656\n",
            "Epoch: 0003 cost= 2754723.000000000 Training accuracy 0.99219\n",
            "Epoch: 0003 cost= 3401950.000000000 Training accuracy 0.97656\n",
            "Epoch: 0003 cost= 0.000000000 Training accuracy 1.00000\n",
            "Epoch: 0003 cost= 3893006.000000000 Training accuracy 0.97656\n",
            "Epoch: 0003 cost= 3801080.000000000 Training accuracy 0.97656\n",
            "Epoch: 0003 cost= 4687223.000000000 Training accuracy 0.97656\n",
            "Epoch: 0003 cost= 5371761.000000000 Training accuracy 0.97656\n",
            "Epoch: 0003 cost= 11062322.000000000 Training accuracy 0.95312\n",
            "Epoch: 0003 cost= 584926.000000000 Training accuracy 0.98438\n",
            "Epoch: 0003 cost= 1308958.000000000 Training accuracy 0.99219\n",
            "Epoch: 0003 cost= 3639040.000000000 Training accuracy 0.98438\n",
            "Epoch: 0003 cost= 9123023.000000000 Training accuracy 0.96875\n",
            "Epoch: 0003 cost= 12603899.000000000 Training accuracy 0.97656\n",
            "Epoch: 0003 cost= 1278899.000000000 Training accuracy 0.99219\n",
            "Epoch: 0003 cost= 16531474.000000000 Training accuracy 0.95312\n",
            "Epoch: 0003 cost= 3253996.000000000 Training accuracy 0.99219\n",
            "Epoch: 0003 cost= 6067717.000000000 Training accuracy 0.96094\n",
            "Epoch: 0003 cost= 12674639.000000000 Training accuracy 0.98438\n",
            "Epoch: 0003 cost= 932577.125000000 Training accuracy 0.96552\n",
            "Epoch: 0004 cost= 1780530.000000000 Training accuracy 0.99219\n",
            "Epoch: 0004 cost= 4109379.000000000 Training accuracy 0.96875\n",
            "Epoch: 0004 cost= 6134084.000000000 Training accuracy 0.96875\n",
            "Epoch: 0004 cost= 365089.000000000 Training accuracy 0.99219\n",
            "Epoch: 0004 cost= 7637902.500000000 Training accuracy 0.96875\n",
            "Epoch: 0004 cost= 8487609.000000000 Training accuracy 0.96094\n",
            "Epoch: 0004 cost= 5949603.000000000 Training accuracy 0.97656\n",
            "Epoch: 0004 cost= 10151167.000000000 Training accuracy 0.96875\n",
            "Epoch: 0004 cost= 7564027.000000000 Training accuracy 0.98438\n",
            "Epoch: 0004 cost= 1793479.000000000 Training accuracy 0.98438\n",
            "Epoch: 0004 cost= 0.000000000 Training accuracy 1.00000\n",
            "Epoch: 0004 cost= 15862132.000000000 Training accuracy 0.92188\n",
            "Epoch: 0004 cost= 12348286.000000000 Training accuracy 0.95312\n",
            "Epoch: 0004 cost= 9167444.000000000 Training accuracy 0.96094\n",
            "Epoch: 0004 cost= 4283634.000000000 Training accuracy 0.96875\n",
            "Epoch: 0004 cost= 756803.000000000 Training accuracy 0.98438\n",
            "Epoch: 0004 cost= 3948438.000000000 Training accuracy 0.96875\n",
            "Epoch: 0004 cost= 2510034.000000000 Training accuracy 0.99219\n",
            "Epoch: 0004 cost= 6469674.000000000 Training accuracy 0.98438\n",
            "Epoch: 0004 cost= 9200989.000000000 Training accuracy 0.96094\n",
            "Epoch: 0004 cost= 8015578.000000000 Training accuracy 0.96875\n",
            "Epoch: 0004 cost= 3924173.000000000 Training accuracy 0.96875\n",
            "Epoch: 0004 cost= 1802917.000000000 Training accuracy 0.98438\n",
            "Epoch: 0004 cost= 3281459.000000000 Training accuracy 0.98438\n",
            "Epoch: 0004 cost= 13502382.000000000 Training accuracy 0.96094\n",
            "Epoch: 0004 cost= 13229978.000000000 Training accuracy 0.95312\n",
            "Epoch: 0004 cost= 0.000000000 Training accuracy 1.00000\n",
            "Epoch: 0004 cost= 6034481.000000000 Training accuracy 0.97656\n",
            "Epoch: 0004 cost= 1642928.000000000 Training accuracy 0.99219\n",
            "Epoch: 0004 cost= 15340061.000000000 Training accuracy 0.96094\n",
            "Epoch: 0004 cost= 4633216.000000000 Training accuracy 0.96875\n",
            "Epoch: 0004 cost= 2677294.000000000 Training accuracy 0.96875\n",
            "Epoch: 0004 cost= 6309319.000000000 Training accuracy 0.96875\n",
            "Epoch: 0004 cost= 15213691.000000000 Training accuracy 0.95312\n",
            "Epoch: 0004 cost= 10945732.000000000 Training accuracy 0.95312\n",
            "Epoch: 0004 cost= 2626640.000000000 Training accuracy 0.98438\n",
            "Epoch: 0004 cost= 12522472.000000000 Training accuracy 0.96094\n",
            "Epoch: 0004 cost= 11270885.000000000 Training accuracy 0.96875\n",
            "Epoch: 0004 cost= 4680984.000000000 Training accuracy 0.97656\n",
            "Epoch: 0004 cost= 8048887.000000000 Training accuracy 0.97656\n",
            "Epoch: 0004 cost= 4405458.000000000 Training accuracy 0.97656\n",
            "Epoch: 0004 cost= 1928512.000000000 Training accuracy 0.98438\n",
            "Epoch: 0004 cost= 0.000000000 Training accuracy 1.00000\n",
            "Epoch: 0004 cost= 418556.000000000 Training accuracy 0.98438\n",
            "Epoch: 0004 cost= 381598.000000000 Training accuracy 0.99219\n",
            "Epoch: 0004 cost= 1522957.000000000 Training accuracy 0.99219\n",
            "Epoch: 0004 cost= 14273031.000000000 Training accuracy 0.96094\n",
            "Epoch: 0004 cost= 1493510.000000000 Training accuracy 0.99219\n",
            "Epoch: 0004 cost= 8977028.000000000 Training accuracy 0.98438\n",
            "Epoch: 0004 cost= 880897.000000000 Training accuracy 0.99219\n",
            "Epoch: 0004 cost= 2818013.000000000 Training accuracy 0.98438\n",
            "Epoch: 0004 cost= 6463076.500000000 Training accuracy 0.97656\n",
            "Epoch: 0004 cost= 4773818.500000000 Training accuracy 0.99219\n",
            "Epoch: 0004 cost= 1670489.000000000 Training accuracy 0.98438\n",
            "Epoch: 0004 cost= 0.000000000 Training accuracy 1.00000\n",
            "Epoch: 0004 cost= 75376.000000000 Training accuracy 0.99219\n",
            "Epoch: 0004 cost= 985746.000000000 Training accuracy 0.99219\n",
            "Epoch: 0004 cost= 9769886.000000000 Training accuracy 0.97656\n",
            "Epoch: 0004 cost= 0.000000000 Training accuracy 1.00000\n",
            "Epoch: 0004 cost= 2798313.500000000 Training accuracy 0.97656\n",
            "Epoch: 0004 cost= 4252293.000000000 Training accuracy 0.97656\n",
            "Epoch: 0004 cost= 3265873.000000000 Training accuracy 0.98438\n",
            "Epoch: 0004 cost= 12112711.000000000 Training accuracy 0.98438\n",
            "Epoch: 0004 cost= 12627804.000000000 Training accuracy 0.97656\n",
            "Epoch: 0004 cost= 13584592.000000000 Training accuracy 0.96094\n",
            "Epoch: 0004 cost= 1245125.000000000 Training accuracy 0.97656\n",
            "Epoch: 0004 cost= 3973585.000000000 Training accuracy 0.97656\n",
            "Epoch: 0004 cost= 13013674.000000000 Training accuracy 0.97656\n",
            "Epoch: 0004 cost= 3536744.000000000 Training accuracy 0.97656\n",
            "Epoch: 0004 cost= 3134990.000000000 Training accuracy 0.98438\n",
            "Epoch: 0004 cost= 1362082.000000000 Training accuracy 0.99219\n",
            "Epoch: 0004 cost= 2993082.500000000 Training accuracy 0.99219\n",
            "Epoch: 0004 cost= 220616.000000000 Training accuracy 0.99219\n",
            "Epoch: 0004 cost= 0.000000000 Training accuracy 1.00000\n",
            "Epoch: 0004 cost= 6833735.000000000 Training accuracy 0.98438\n",
            "Epoch: 0004 cost= 369326.000000000 Training accuracy 0.99219\n",
            "Epoch: 0004 cost= 10981235.000000000 Training accuracy 0.96875\n",
            "Epoch: 0004 cost= 3190930.000000000 Training accuracy 0.98438\n",
            "Epoch: 0004 cost= 0.000000000 Training accuracy 1.00000\n",
            "Epoch: 0005 cost= 5536895.500000000 Training accuracy 0.98438\n",
            "Epoch: 0005 cost= 10739016.000000000 Training accuracy 0.96875\n",
            "Epoch: 0005 cost= 4325098.000000000 Training accuracy 0.97656\n",
            "Epoch: 0005 cost= 783488.000000000 Training accuracy 0.97656\n",
            "Epoch: 0005 cost= 6500739.000000000 Training accuracy 0.96094\n",
            "Epoch: 0005 cost= 0.000000000 Training accuracy 1.00000\n",
            "Epoch: 0005 cost= 7750282.000000000 Training accuracy 0.98438\n",
            "Epoch: 0005 cost= 1830332.250000000 Training accuracy 0.96875\n",
            "Epoch: 0005 cost= 4513687.000000000 Training accuracy 0.97656\n",
            "Epoch: 0005 cost= 6304686.000000000 Training accuracy 0.98438\n",
            "Epoch: 0005 cost= 6658126.000000000 Training accuracy 0.95312\n",
            "Epoch: 0005 cost= 9208596.000000000 Training accuracy 0.96094\n",
            "Epoch: 0005 cost= 0.000000000 Training accuracy 1.00000\n",
            "Epoch: 0005 cost= 0.000000000 Training accuracy 1.00000\n",
            "Epoch: 0005 cost= 912534.500000000 Training accuracy 0.99219\n",
            "Epoch: 0005 cost= 921927.500000000 Training accuracy 0.98438\n",
            "Epoch: 0005 cost= 0.000000000 Training accuracy 1.00000\n",
            "Epoch: 0005 cost= 3235437.000000000 Training accuracy 0.98438\n",
            "Epoch: 0005 cost= 1618471.000000000 Training accuracy 0.98438\n",
            "Epoch: 0005 cost= 0.000000000 Training accuracy 1.00000\n",
            "Epoch: 0005 cost= 2904353.000000000 Training accuracy 0.99219\n",
            "Epoch: 0005 cost= 3041435.000000000 Training accuracy 0.97656\n",
            "Epoch: 0005 cost= 0.000000000 Training accuracy 1.00000\n",
            "Epoch: 0005 cost= 2596606.000000000 Training accuracy 0.98438\n",
            "Epoch: 0005 cost= 1998921.000000000 Training accuracy 0.98438\n",
            "Epoch: 0005 cost= 3756628.000000000 Training accuracy 0.98438\n",
            "Epoch: 0005 cost= 3333340.000000000 Training accuracy 0.99219\n",
            "Epoch: 0005 cost= 4392430.000000000 Training accuracy 0.98438\n",
            "Epoch: 0005 cost= 3210273.000000000 Training accuracy 0.98438\n",
            "Epoch: 0005 cost= 0.000000000 Training accuracy 1.00000\n",
            "Epoch: 0005 cost= 927351.000000000 Training accuracy 0.99219\n",
            "Epoch: 0005 cost= 5379794.500000000 Training accuracy 0.97656\n",
            "Epoch: 0005 cost= 4953182.000000000 Training accuracy 0.98438\n",
            "Epoch: 0005 cost= 0.000000000 Training accuracy 1.00000\n",
            "Epoch: 0005 cost= 1185790.000000000 Training accuracy 0.98438\n",
            "Epoch: 0005 cost= 277275.000000000 Training accuracy 0.99219\n",
            "Epoch: 0005 cost= 3944850.000000000 Training accuracy 0.98438\n",
            "Epoch: 0005 cost= 2135311.000000000 Training accuracy 0.97656\n",
            "Epoch: 0005 cost= 7533697.500000000 Training accuracy 0.97656\n",
            "Epoch: 0005 cost= 1332528.000000000 Training accuracy 0.99219\n",
            "Epoch: 0005 cost= 0.000000000 Training accuracy 1.00000\n",
            "Epoch: 0005 cost= 0.000000000 Training accuracy 1.00000\n",
            "Epoch: 0005 cost= 150940.000000000 Training accuracy 0.98438\n",
            "Epoch: 0005 cost= 941778.000000000 Training accuracy 0.99219\n",
            "Epoch: 0005 cost= 1090986.000000000 Training accuracy 0.99219\n",
            "Epoch: 0005 cost= 6176594.000000000 Training accuracy 0.98438\n",
            "Epoch: 0005 cost= 1074852.000000000 Training accuracy 0.99219\n",
            "Epoch: 0005 cost= 5633713.000000000 Training accuracy 0.97656\n",
            "Epoch: 0005 cost= 99984.000000000 Training accuracy 0.99219\n",
            "Epoch: 0005 cost= 4753891.000000000 Training accuracy 0.98438\n",
            "Epoch: 0005 cost= 8322671.000000000 Training accuracy 0.97656\n",
            "Epoch: 0005 cost= 0.000000000 Training accuracy 1.00000\n",
            "Epoch: 0005 cost= 5939255.000000000 Training accuracy 0.97656\n",
            "Epoch: 0005 cost= 8031948.500000000 Training accuracy 0.98438\n",
            "Epoch: 0005 cost= 243528.000000000 Training accuracy 0.98438\n",
            "Epoch: 0005 cost= 743856.500000000 Training accuracy 0.96875\n",
            "Epoch: 0005 cost= 0.000000000 Training accuracy 1.00000\n",
            "Epoch: 0005 cost= 6439916.000000000 Training accuracy 0.98438\n",
            "Epoch: 0005 cost= 4315896.000000000 Training accuracy 0.98438\n",
            "Epoch: 0005 cost= 0.000000000 Training accuracy 1.00000\n",
            "Epoch: 0005 cost= 4174347.500000000 Training accuracy 0.96875\n",
            "Epoch: 0005 cost= 0.000000000 Training accuracy 1.00000\n",
            "Epoch: 0005 cost= 3832652.000000000 Training accuracy 0.98438\n",
            "Epoch: 0005 cost= 2513122.000000000 Training accuracy 0.99219\n",
            "Epoch: 0005 cost= 2431864.000000000 Training accuracy 0.98438\n",
            "Epoch: 0005 cost= 749242.000000000 Training accuracy 0.98438\n",
            "Epoch: 0005 cost= 5010953.500000000 Training accuracy 0.97656\n",
            "Epoch: 0005 cost= 8842652.000000000 Training accuracy 0.93750\n",
            "Epoch: 0005 cost= 2189497.000000000 Training accuracy 0.99219\n",
            "Epoch: 0005 cost= 6708290.500000000 Training accuracy 0.97656\n",
            "Epoch: 0005 cost= 6581133.500000000 Training accuracy 0.96875\n",
            "Epoch: 0005 cost= 5499778.000000000 Training accuracy 0.98438\n",
            "Epoch: 0005 cost= 1105791.000000000 Training accuracy 0.99219\n",
            "Epoch: 0005 cost= 2585926.000000000 Training accuracy 0.99219\n",
            "Epoch: 0005 cost= 10712484.000000000 Training accuracy 0.95312\n",
            "Epoch: 0005 cost= 4567846.500000000 Training accuracy 0.95312\n",
            "Epoch: 0005 cost= 4276718.000000000 Training accuracy 0.97656\n",
            "Epoch: 0005 cost= 3359648.250000000 Training accuracy 0.99219\n",
            "Epoch: 0005 cost= 0.000000000 Training accuracy 1.00000\n",
            "Optimization Completed\n",
            "Testing Accuracy: 0.9125\n"
          ],
          "name": "stdout"
        }
      ]
    },
    {
      "cell_type": "markdown",
      "metadata": {
        "id": "7AZNH2chMznJ",
        "colab_type": "text"
      },
      "source": [
        "## Summary\n",
        "My experiment only tested 20 kinds of fruits in the end, because my computer's configuration is not very good, and then it took about an hour to finish the optimization."
      ]
    }
  ]
}