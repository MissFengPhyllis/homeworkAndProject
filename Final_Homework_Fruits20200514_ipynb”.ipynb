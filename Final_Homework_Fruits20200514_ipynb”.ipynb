{
  "nbformat": 4,
  "nbformat_minor": 0,
  "metadata": {
    "colab": {
      "name": "Final  Homework - Fruits20200514.ipynb”",
      "provenance": [],
      "collapsed_sections": [],
      "toc_visible": true,
      "include_colab_link": true
    },
    "kernelspec": {
      "name": "python3",
      "display_name": "Python 3"
    },
    "accelerator": "GPU"
  },
  "cells": [
    {
      "cell_type": "markdown",
      "metadata": {
        "id": "view-in-github",
        "colab_type": "text"
      },
      "source": [
        "<a href=\"https://colab.research.google.com/github/MissFengPhyllis/homeworkAndProject/blob/master/Final_Homework_Fruits20200514_ipynb%E2%80%9D.ipynb\" target=\"_parent\"><img src=\"https://colab.research.google.com/assets/colab-badge.svg\" alt=\"Open In Colab\"/></a>"
      ]
    },
    {
      "cell_type": "markdown",
      "metadata": {
        "id": "xno3f36KY3Hb",
        "colab_type": "text"
      },
      "source": [
        "# Homework assignment - Fruits\n",
        "\n",
        "This notebook is the stub you have to fill out for the homework. Read the task description and implement the empty code cells. Each section represents a stage along implementing an image classifier from loading and inspecting the dataset to making something working. The section descriptions contain what to do in that step.\n",
        "\n",
        "Copy this notebook to your drive (File -> Save a copy in Drive), edit it and upload the final ipynb file to [canvas.elte.hu](https://canvas.elte.hu) or upload the link to the Colab notebook itself. If you have your own machine with Jupyter installed, you can work there as well.\n",
        "\n",
        "**Note** Make sure the notebook is using GPU accelerataion in Edit -> Notebook settings, otherwise training and evaluation can be very slow.\n",
        "\n",
        "## Task description\n",
        "Your task is to implement a deep learning classifier of fruit images. The dataset contains segmented images of 60 different fruits. You'll have to implement a convolutional network.\n",
        "\n",
        "## Rules and Comments\n",
        "- This is an ML class so to pass the homework you do have to implement a working classifier, just loading the data is not enough.\n",
        "- As always, copying others' code will make you fail the homework automatically (and thus the course)\n",
        "- Make sure your code can be run from an empty state (use Runtime -> Run all in the menu after restarting the notebook)\n",
        "- Feel free to add more code cells as needed. But don't put code into external Python files to ease the reviewing.\n",
        "- Please add your name and Neptun ID in the box below for easier identification."
      ]
    },
    {
      "cell_type": "markdown",
      "metadata": {
        "id": "W2TVp9-YZlOj",
        "colab_type": "text"
      },
      "source": [
        "**Name: Feng Lijiao**  \n",
        "**Neptun ID: H2MI9D** "
      ]
    },
    {
      "cell_type": "code",
      "metadata": {
        "id": "sIPE7SRPQe7D",
        "colab_type": "code",
        "outputId": "ff38cd40-b67e-4819-d173-ab08c3e50c8f",
        "colab": {
          "base_uri": "https://localhost:8080/",
          "height": 309
        }
      },
      "source": [
        "# Keras 2.3.1 has a bug in evalutation, downgrade it\n",
        "%tensorflow_version 1.x\n",
        "!pip install -U keras==2.2.5"
      ],
      "execution_count": 0,
      "outputs": [
        {
          "output_type": "stream",
          "text": [
            "TensorFlow 1.x selected.\n",
            "Collecting keras==2.2.5\n",
            "\u001b[?25l  Downloading https://files.pythonhosted.org/packages/f8/ba/2d058dcf1b85b9c212cc58264c98a4a7dd92c989b798823cc5690d062bb2/Keras-2.2.5-py2.py3-none-any.whl (336kB)\n",
            "\u001b[K     |████████████████████████████████| 337kB 2.8MB/s \n",
            "\u001b[?25hRequirement already satisfied, skipping upgrade: six>=1.9.0 in /usr/local/lib/python3.6/dist-packages (from keras==2.2.5) (1.12.0)\n",
            "Requirement already satisfied, skipping upgrade: keras-applications>=1.0.8 in /usr/local/lib/python3.6/dist-packages (from keras==2.2.5) (1.0.8)\n",
            "Requirement already satisfied, skipping upgrade: scipy>=0.14 in /usr/local/lib/python3.6/dist-packages (from keras==2.2.5) (1.4.1)\n",
            "Requirement already satisfied, skipping upgrade: keras-preprocessing>=1.1.0 in /usr/local/lib/python3.6/dist-packages (from keras==2.2.5) (1.1.0)\n",
            "Requirement already satisfied, skipping upgrade: h5py in /usr/local/lib/python3.6/dist-packages (from keras==2.2.5) (2.10.0)\n",
            "Requirement already satisfied, skipping upgrade: pyyaml in /usr/local/lib/python3.6/dist-packages (from keras==2.2.5) (3.13)\n",
            "Requirement already satisfied, skipping upgrade: numpy>=1.9.1 in /usr/local/lib/python3.6/dist-packages (from keras==2.2.5) (1.18.4)\n",
            "Installing collected packages: keras\n",
            "  Found existing installation: Keras 2.3.1\n",
            "    Uninstalling Keras-2.3.1:\n",
            "      Successfully uninstalled Keras-2.3.1\n",
            "Successfully installed keras-2.2.5\n"
          ],
          "name": "stdout"
        }
      ]
    },
    {
      "cell_type": "code",
      "metadata": {
        "id": "l2dJzgxwZlYw",
        "colab_type": "code",
        "colab": {}
      },
      "source": [
        "# Some useful imports\n",
        "import matplotlib.pyplot as plt\n",
        "import numpy as np\n",
        "import pickle\n"
      ],
      "execution_count": 0,
      "outputs": []
    },
    {
      "cell_type": "markdown",
      "metadata": {
        "id": "G7vNIi7gZljF",
        "colab_type": "text"
      },
      "source": [
        "## Dataset preparations\n",
        "First download the data and extract it:"
      ]
    },
    {
      "cell_type": "code",
      "metadata": {
        "id": "C-2-7vMqZs2w",
        "colab_type": "code",
        "outputId": "9d37b400-2197-479a-bef7-7a67984c649f",
        "colab": {
          "base_uri": "https://localhost:8080/",
          "height": 204
        }
      },
      "source": [
        "!wget http://vegesm.web.elte.hu/fruits_small.zip\n",
        "!unzip fruits_small.zip > /dev/null"
      ],
      "execution_count": 0,
      "outputs": [
        {
          "output_type": "stream",
          "text": [
            "--2020-05-14 09:35:25--  http://vegesm.web.elte.hu/fruits_small.zip\n",
            "Resolving vegesm.web.elte.hu (vegesm.web.elte.hu)... 157.181.1.225\n",
            "Connecting to vegesm.web.elte.hu (vegesm.web.elte.hu)|157.181.1.225|:80... connected.\n",
            "HTTP request sent, awaiting response... 200 OK\n",
            "Length: 186322919 (178M) [application/zip]\n",
            "Saving to: ‘fruits_small.zip’\n",
            "\n",
            "fruits_small.zip    100%[===================>] 177.69M   467KB/s    in 4m 18s  \n",
            "\n",
            "2020-05-14 09:40:21 (706 KB/s) - ‘fruits_small.zip’ saved [186322919/186322919]\n",
            "\n"
          ],
          "name": "stdout"
        }
      ]
    },
    {
      "cell_type": "code",
      "metadata": {
        "id": "Zu0jkvgLEdXv",
        "colab_type": "code",
        "colab": {}
      },
      "source": [
        "# tf.placeholder error\n",
        "import tensorflow.compat.v1 as tf\n",
        "tf.disable_v2_behavior()\n",
        "tf.reset_default_graph() "
      ],
      "execution_count": 0,
      "outputs": []
    },
    {
      "cell_type": "markdown",
      "metadata": {
        "id": "H0PMTdx3ZxDM",
        "colab_type": "text"
      },
      "source": [
        "This will download and extract the dataset into `/content/fruits-small`. You can inspect the files in the sidebar on the left, under the *Files* tab. The dataset contains 100x100 pixel images of fruits, grouped by classes into folders. \n",
        "\n",
        "Notice that the dataset does not define a validation set, you have to split it yourself. Split the training set into a training and validation set. Make sure in the validation set the classes have a similar distribution to the training set.\n",
        "\n"
      ]
    },
    {
      "cell_type": "markdown",
      "metadata": {
        "id": "ZsD3bsCBBiUU",
        "colab_type": "text"
      },
      "source": [
        "Now that you have set up the dataset, it's time to look at some of \n",
        "\n",
        "*   List item\n",
        "*   List item\n",
        "\n",
        "the images. Create a function that randomly selects 4 images and prints them with the class names."
      ]
    },
    {
      "cell_type": "code",
      "metadata": {
        "id": "Rpy4iIhuxt65",
        "colab_type": "code",
        "colab": {}
      },
      "source": [
        "# show images \n",
        "import skimage\n",
        "from skimage import color,data,transform,io\n",
        "from sklearn.utils import shuffle\n",
        "import keras\n",
        "from keras.utils import np_utils"
      ],
      "execution_count": 0,
      "outputs": []
    },
    {
      "cell_type": "code",
      "metadata": {
        "id": "3H19n5nYyVXQ",
        "colab_type": "code",
        "colab": {}
      },
      "source": [
        "data_dir = \"/content/fruits-small/\" \n",
        "train_dir = data_dir + \"train/\"\n",
        "validation_dir = data_dir + \"test/\""
      ],
      "execution_count": 0,
      "outputs": []
    },
    {
      "cell_type": "code",
      "metadata": {
        "id": "HYZ5YmoXxKTK",
        "colab_type": "code",
        "colab": {}
      },
      "source": [
        "\n",
        "##Get the picture data under the corresponding path folder\n",
        "def load_data(dir_path):\n",
        "    no5_imgs=[] ##Create an empty list to store the fifth picture under each folder\n",
        "    labels_no5=[] ##Create an empty list to store the folder name corresponding to the fifth picture\n",
        "    lab=os.listdir(dir_path)\n",
        "    n=0\n",
        "    for l in lab:\n",
        "      img=os.listdir(dir_path+l) ##img is the folder under the corresponding path\n",
        "      n+=1\n",
        "      no5_img=format_path(img) ##Arrange the pictures in the correct order to facilitate the fifth picture\n",
        "      img5_path=dir_path+l+'/'+no5_img\n",
        "      labels_no5.append(l)\n",
        "      no5_imgs.append(skimage.io.imread(img5_path)) ##The fifth picture of each category is read out and stored in the data set no5_imgs\n",
        "    return no5_imgs,labels_no5 ##The storage order of the images in the returned images is different from the storage order in the actual folder"
      ],
      "execution_count": 0,
      "outputs": []
    },
    {
      "cell_type": "code",
      "metadata": {
        "id": "15YlVPF7xXmD",
        "colab_type": "code",
        "colab": {}
      },
      "source": [
        "##Function for sequentially reading files in a folder\n",
        "def format_path(img):  ## img is the result of os.listdir (label folder)   \n",
        "    yes_int=[] ##The new list is used to store the file name of the first item that can be converted into an integer\n",
        "    for s in range(len(img)): ##Iterate\n",
        "        img[s] = img[s].split('_') ##Separate file names with \"_\" as a separator\n",
        "        if(is_number(img[s][0])): ##Determine whether the first part of the file name can be converted to an integer\n",
        "            img[s][0]=int(img[s][0]) ##Convert the first part of the file name to an integer\n",
        "            yes_int.append(img[s]) ##Put the file name in the list without r\n",
        "    yes_int.sort() ##Sort the list of file names that can be converted to integer\n",
        "    for yi in range(len(yes_int)): ##variable\n",
        "        yes_int[yi][0]=str(yes_int[yi][0]) ##Convert the previous part to integer and then back to the string\n",
        "        yes_int[yi]=yes_int[yi][0]+'_'+yes_int[yi][1] ##Perform stitching\n",
        "    no5_img=yes_int[4]\n",
        "    return no5_img"
      ],
      "execution_count": 0,
      "outputs": []
    },
    {
      "cell_type": "code",
      "metadata": {
        "id": "xD-SnnB-xaxO",
        "colab_type": "code",
        "colab": {}
      },
      "source": [
        "##Determine whether a piece of data can be converted to plastic\n",
        "def is_number(s):\n",
        "    try:\n",
        "        float(s)\n",
        "        return True\n",
        "    except ValueError:\n",
        "        pass\n",
        " \n",
        "    try:\n",
        "        import unicodedata\n",
        "        unicodedata.numeric(s)\n",
        "        return True\n",
        "    except (TypeError, ValueError):\n",
        "        pass\n",
        " \n",
        "    return False"
      ],
      "execution_count": 0,
      "outputs": []
    },
    {
      "cell_type": "code",
      "metadata": {
        "id": "tHOEOMf3xdi7",
        "colab_type": "code",
        "outputId": "c0a889c0-f007-4358-e05a-6cc5070341b8",
        "colab": {
          "base_uri": "https://localhost:8080/",
          "height": 34
        }
      },
      "source": [
        "##Final train data set and label\n",
        "no5_imgs,labels_no5 = load_data(train_dir)\n",
        "print(len(labels_no5),len(no5_imgs))"
      ],
      "execution_count": 0,
      "outputs": [
        {
          "output_type": "stream",
          "text": [
            "60 60\n"
          ],
          "name": "stdout"
        }
      ]
    },
    {
      "cell_type": "code",
      "metadata": {
        "id": "4FgAbArIw4J8",
        "colab_type": "code",
        "colab": {}
      },
      "source": [
        "##Call display function\n",
        "import random\n",
        "def display_no5_img_4(dict_no5):\n",
        "  fig = plt.figure(figsize=(15,15)) ##The displayed size is 15*15\n",
        "  for i in range(len(dict_no5)):\n",
        "    # print(i) //Subscript of dictionary list\n",
        "    # print(dict_list_no5[i][0])//Picture title\n",
        "    # print(dict_list_no5[i][1])//Picture matrix\n",
        "    plt.subplot(11,7,(i+1))\n",
        "    label = dict_no5[i][0]\n",
        "    img = dict_no5[i][1]\n",
        "    plt.title(\"{0}\".format(label))\n",
        "    plt.imshow(img)\n",
        "  plt.show()"
      ],
      "execution_count": 0,
      "outputs": []
    },
    {
      "cell_type": "code",
      "metadata": {
        "id": "tgAwVutcw7Cg",
        "colab_type": "code",
        "outputId": "ec17eba3-370e-47a5-8e22-5628188b0f04",
        "colab": {
          "base_uri": "https://localhost:8080/",
          "height": 127
        }
      },
      "source": [
        "dict_no5 = zip(labels_no5,no5_imgs)\n",
        "dict_list_no5 = list(dict_no5) \n",
        "random_list = random.sample(dict_list_no5,4)\n",
        "display_no5_img_4(random_list)"
      ],
      "execution_count": 0,
      "outputs": [
        {
          "output_type": "display_data",
          "data": {
            "image/png": "[encoded data removed]",
            "text/plain": [
              "<Figure size 1080x1080 with 4 Axes>"
            ]
          },
          "metadata": {
            "tags": [],
            "needs_background": "light"
          }
        }
      ]
    },
    {
      "cell_type": "markdown",
      "metadata": {
        "id": "-EF8R3BVzXps",
        "colab_type": "text"
      },
      "source": [
        "in this code, you can run several times, each turn you can get a random 4 pictures "
      ]
    },
    {
      "cell_type": "markdown",
      "metadata": {
        "id": "12MJ6-jvHzSE",
        "colab_type": "text"
      },
      "source": [
        "### Splitting the dataset\n",
        "\n",
        "Notice that the dataset does not define a validation set, you have to split it yourself. Split the training set into a training and validation set. "
      ]
    },
    {
      "cell_type": "code",
      "metadata": {
        "id": "8PmnVHtkZzWP",
        "colab_type": "code",
        "colab": {}
      },
      "source": [
        "## notation definition\n",
        "import os\n",
        "IMAGE_HEIGHT = 100\n",
        "IMAGE_WIDTH = 100\n",
        "IMAGE_CHANNELS = 3\n",
        "NETWORK_DEPTH = 4\n",
        "data_dir = \"/content/fruits-small/\" \n",
        "train_dir = data_dir + \"train/\"\n",
        "validation_dir = data_dir + \"test/\"\n",
        "\n",
        "batch_size = 60\n",
        "input_size = IMAGE_HEIGHT * IMAGE_WIDTH * NETWORK_DEPTH\n",
        "num_classes = len(os.listdir(train_dir))\n",
        "# probability to keep the values after a training iteration\n",
        "dropout = 0.8\n",
        "\n",
        "initial_learning_rate = 0.001\n",
        "final_learning_rate = 0.00001\n",
        "learning_rate = initial_learning_rate\n",
        "\n",
        "# number of iterations to run the training\n",
        "# iterations = 75000\n",
        "iterations = 1500\n",
        "# number of iterations after we display the loss and accuracy\n",
        "acc_display_interval = 1000\n",
        "# default number of iterations after we save the model\n",
        "save_interval = 1000\n",
        "step_display_interval = 100\n",
        "# use the saved model and continue training\n",
        "useCkpt = False\n",
        "# placeholder for probability to keep the network parameters after an iteration\n",
        "keep_prob = tf.placeholder(tf.float32, name='keep_prob')"
      ],
      "execution_count": 0,
      "outputs": []
    },
    {
      "cell_type": "markdown",
      "metadata": {
        "id": "96pqblUgZ22J",
        "colab_type": "text"
      },
      "source": [
        "### Preprocess the dataset\n",
        "\n",
        "We need to augment the data, since we do not have many images per classes. Create an augmentation mechanism, data automatically does the following transformations during training:\n",
        "- flip images horizontally\n",
        "- rotates them\n",
        "- performs zooming"
      ]
    },
    {
      "cell_type": "code",
      "metadata": {
        "id": "t1QBsrtFEuzH",
        "colab_type": "code",
        "colab": {}
      },
      "source": [
        "# -------------------- Write/Read TF record logic --------------------\n",
        "class ImageCoder(object):\n",
        "    \"\"\"Helper class that provides TensorFlow image coding utilities.\"\"\"\n",
        "\n",
        "    def __init__(self):\n",
        "        # Create a single Session to run all image coding calls.\n",
        "        self._sess = tf.Session()\n",
        "\n",
        "        # Initializes function that decodes RGB JPEG data.\n",
        "        self._decode_jpeg_data = tf.placeholder(dtype=tf.string)\n",
        "        self._decode_jpeg = tf.image.decode_jpeg(self._decode_jpeg_data, channels=3)\n",
        "\n",
        "    def decode_jpeg(self, image_data):\n",
        "        image = self._sess.run(self._decode_jpeg,\n",
        "                               feed_dict={self._decode_jpeg_data: image_data})\n",
        "        assert len(image.shape) == 3    #  检查条件，不符合就终止程序\n",
        "        assert image.shape[2] == 3\n",
        "        return image\n",
        "        \n"
      ],
      "execution_count": 0,
      "outputs": []
    },
    {
      "cell_type": "code",
      "metadata": {
        "id": "aaDrgOzME0v4",
        "colab_type": "code",
        "colab": {}
      },
      "source": [
        "def write_image_data(dir_name, tfrecords_name):\n",
        "    writer = tf.python_io.TFRecordWriter(tfrecords_name)\n",
        "    coder = ImageCoder()\n",
        "    image_count = 0\n",
        "    index = -1\n",
        "    classes_dict = {}\n",
        "\n",
        "    for folder_name in os.listdir(dir_name):\n",
        "        class_path = dir_name + '/' + folder_name + '/'\n",
        "        index += 1\n",
        "        classes_dict[index] = folder_name\n",
        "        for image_name in os.listdir(class_path):\n",
        "            image_path = class_path + image_name\n",
        "            image_count += 1\n",
        "            with tf.gfile.FastGFile(image_path, 'rb') as f:\n",
        "                image_data = f.read()\n",
        "                example = tf.train.Example(\n",
        "                    features = tf.train.Features(\n",
        "                        feature = {\n",
        "                            'label':tf.train.Feature(int64_list=tf.train.Int64List(value=[index])),\n",
        "                            'image_raw':tf.train.Feature(bytes_list=tf.train.BytesList(value=[tf.compat.as_bytes(image_data)]))\n",
        "                        }\n",
        "                    )\n",
        "                )\n",
        "                writer.write(example.SerializeToString())\n",
        "    writer.close()\n",
        "    print(classes_dict)\n",
        "    return image_count, classes_dict\n"
      ],
      "execution_count": 0,
      "outputs": []
    },
    {
      "cell_type": "code",
      "metadata": {
        "id": "qjHAZuRCE6cf",
        "colab_type": "code",
        "colab": {}
      },
      "source": [
        "def parse_single_example(serialized_example):\n",
        "    features = tf.parse_single_example(\n",
        "        serialized_example,\n",
        "        features={\n",
        "            'image_raw': tf.FixedLenFeature([], tf.string),\n",
        "            'label': tf.FixedLenFeature([], tf.int64)\n",
        "        }\n",
        "    )\n",
        "    image = tf.image.decode_jpeg(features['image_raw'], channels=3)\n",
        "    image = tf.reshape(image, [100, 100, 3])\n",
        "    label = tf.cast(features['label'], tf.int32)\n",
        "    return image, label\n"
      ],
      "execution_count": 0,
      "outputs": []
    },
    {
      "cell_type": "code",
      "metadata": {
        "id": "MMv7XQWGFBB3",
        "colab_type": "code",
        "colab": {}
      },
      "source": [
        "def conv(input_tensor,\n",
        "         name,\n",
        "         kernel_width,\n",
        "         kernel_height,\n",
        "         num_out_activation_maps,\n",
        "         stride_horizontal=1,\n",
        "         stride_vertical=1,\n",
        "         activation_fn=tf.nn.relu):\n",
        "    prev_layer_output = input_tensor.get_shape()[-1].value\n",
        "    with tf.variable_scope(name):\n",
        "        weights = tf.get_variable(\n",
        "            'weights', [\n",
        "                kernel_height, kernel_width, prev_layer_output,\n",
        "                num_out_activation_maps\n",
        "            ], tf.float32,\n",
        "            tf.truncated_normal_initializer(stddev=5e-2, dtype=tf.float32))\n",
        "        biases = tf.get_variable(\"bias\", [num_out_activation_maps], tf.float32,\n",
        "                                 tf.constant_initializer(0.0))\n",
        "        conv_layer = tf.nn.conv2d(\n",
        "            input_tensor,\n",
        "            weights, (1, stride_horizontal, stride_vertical, 1),\n",
        "            padding='SAME')\n",
        "        activation = activation_fn(tf.nn.bias_add(conv_layer, biases))\n",
        "        return activation\n"
      ],
      "execution_count": 0,
      "outputs": []
    },
    {
      "cell_type": "code",
      "metadata": {
        "id": "xikG3sVaFDfF",
        "colab_type": "code",
        "colab": {}
      },
      "source": [
        "def fully_connected(input_tensor,\n",
        "                    name,\n",
        "                    output_neurons,\n",
        "                    activation_fn=tf.nn.relu):\n",
        "    n_in = input_tensor.get_shape()[-1].value\n",
        "    with tf.variable_scope(name):\n",
        "        weights = tf.get_variable(\n",
        "            'weights', [n_in, output_neurons],\n",
        "            tf.float32,\n",
        "            initializer=tf.truncated_normal_initializer(\n",
        "                stddev=5e-2, dtype=tf.float32))\n",
        "        biases = tf.get_variable(\"bias\", [output_neurons], tf.float32,\n",
        "                                 tf.constant_initializer(0.0))\n",
        "        logits = tf.nn.bias_add(tf.matmul(input_tensor, weights), biases)\n",
        "        if activation_fn is None:\n",
        "            return logits\n",
        "        return activation_fn(logits)\n"
      ],
      "execution_count": 0,
      "outputs": []
    },
    {
      "cell_type": "code",
      "metadata": {
        "id": "dPF6dSjFFF3E",
        "colab_type": "code",
        "colab": {}
      },
      "source": [
        "def max_pool(input_tensor, name, kernel_height, kernel_width,\n",
        "             stride_horizontal, stride_vertical):\n",
        "    return tf.nn.max_pool(\n",
        "        input_tensor,\n",
        "        ksize=[1, kernel_height, kernel_width, 1],\n",
        "        strides=[1, stride_horizontal, stride_vertical, 1],\n",
        "        padding='VALID',\n",
        "        name=name)\n"
      ],
      "execution_count": 0,
      "outputs": []
    },
    {
      "cell_type": "code",
      "metadata": {
        "id": "IjLr4S0-FIJI",
        "colab_type": "code",
        "colab": {}
      },
      "source": [
        "def loss(logits, onehot_labels):\n",
        "    xentropy = tf.nn.softmax_cross_entropy_with_logits(\n",
        "        logits=logits, labels=onehot_labels, name='xentropy')\n",
        "    loss = tf.reduce_mean(xentropy, name='loss')\n",
        "    return loss\n"
      ],
      "execution_count": 0,
      "outputs": []
    },
    {
      "cell_type": "code",
      "metadata": {
        "id": "MaIvDaGPFKBz",
        "colab_type": "code",
        "colab": {}
      },
      "source": [
        "def update_learning_rate(acc, learn_rate):\n",
        "    return learn_rate - acc * learn_rate * 0.9\n"
      ],
      "execution_count": 0,
      "outputs": []
    },
    {
      "cell_type": "markdown",
      "metadata": {
        "id": "KoH3ij3daCcf",
        "colab_type": "text"
      },
      "source": [
        "## Training the network\n",
        "\n",
        "Implement and train the following architecture. It has the following layers:\n",
        "\n",
        "- A convolutional layer with 5x5 kernel and 32 filters\n",
        "- A 2x2 MaxPooling layer\n",
        "- Two convolutional layers with 3x3 kernels and 64 filters each\n",
        "- A MaxPooling layer\n",
        "- Another 3x3 convolutional layer with 128 filters, followed by a MaxPooling layer\n",
        "- A fully connected layer of 512 units\n",
        "- A final softmax layer\n",
        "\n",
        "All layers have ReLU activations. Train the network for 15 epochs."
      ]
    },
    {
      "cell_type": "code",
      "metadata": {
        "id": "wMfF7cJFFOc-",
        "colab_type": "code",
        "colab": {}
      },
      "source": [
        "\n",
        "def conv_net(input_layer, dropout):\n",
        "    # number of activation maps for each convolutional layer\n",
        "    number_of_act_maps_conv1 = 32\n",
        "    number_of_act_maps_conv2 = 64\n",
        "    number_of_act_maps_conv3 = 64\n",
        "    number_of_act_maps_conv4 = 128\n",
        "\n",
        "    # number of outputs for each fully connected layer\n",
        "    number_of_fcl_outputs1 = 512\n",
        "    number_of_fcl_outputs2 = 256\n",
        "\n",
        "    input_layer = tf.reshape(input_layer, shape=[-1, IMAGE_HEIGHT, IMAGE_WIDTH, NETWORK_DEPTH])\n",
        "\n",
        "    # A convolutional layer with 5x5 kernel and 32 filters\n",
        "    # A 2x2 MaxPooling layer\n",
        "    conv1 = conv(input_layer, 'conv1', kernel_width=5, kernel_height=5, num_out_activation_maps=number_of_act_maps_conv1)\n",
        "    conv1 = max_pool(conv1, 'max_pool1', kernel_height=2, kernel_width=2, stride_horizontal=2, stride_vertical=2)\n",
        "\n",
        "    # Two convolutional layers with 3x3 kernels and 64 filters each\n",
        "    # A MaxPooling layer\n",
        "    conv2 = conv(conv1, 'conv2', kernel_width=3, kernel_height=3, num_out_activation_maps=number_of_act_maps_conv2)\n",
        "    conv2 = max_pool(conv2, 'max_pool2', kernel_height=2, kernel_width=2, stride_horizontal=2, stride_vertical=2)\n",
        "\n",
        "   \n",
        "    conv3 = conv(conv2, 'conv3', kernel_width=3, kernel_height=3, num_out_activation_maps=number_of_act_maps_conv3)\n",
        "    conv3 = max_pool(conv3, 'max_pool3', kernel_height=2, kernel_width=2, stride_horizontal=2, stride_vertical=2)\n",
        "\n",
        "    # Another 3x3 convolutional layer with 128 filters, followed by a MaxPooling layer\n",
        "    conv4 = conv(conv3, 'conv4', kernel_width=1, kernel_height=1, num_out_activation_maps=number_of_act_maps_conv4)\n",
        "    conv4 = max_pool(conv4, 'max_pool4', kernel_height=2, kernel_width=2, stride_horizontal=2, stride_vertical=2)\n",
        "\n",
        "    flattened_shape = np.prod([s.value for s in conv4.get_shape()[1:]])\n",
        "    net = tf.reshape(conv4, [-1, flattened_shape], name=\"flatten\")\n",
        "\n",
        " \n",
        "\n",
        "    fcl1 = fully_connected(net, 'fcl1', number_of_fcl_outputs1)\n",
        "    fcl1 = tf.nn.dropout(fcl1, rate=1 - dropout)\n",
        "\n",
        "    fcl2 = fully_connected(fcl1, 'fcl2', number_of_fcl_outputs2)\n",
        "    fcl2 = tf.nn.dropout(fcl2, rate=1 - dropout)\n",
        "\n",
        "    # out = fully_connected(fcl2, 'out', num_classes, activation_fn=None)\n",
        "\n",
        "    #A fully connected layer of 512 units\n",
        "    out = fully_connected(net, 'out', 512, activation_fn=None)\n",
        "\n",
        "    return out\n",
        "    \n"
      ],
      "execution_count": 0,
      "outputs": []
    },
    {
      "cell_type": "code",
      "metadata": {
        "id": "dRKmW_hlFSJT",
        "colab_type": "code",
        "colab": {}
      },
      "source": [
        "\n",
        "# perform data augmentation on images\n",
        "# add random hue and saturation\n",
        "# randomly flip the image vertically and horizontally\n",
        "def augment_image(image):\n",
        "    image = tf.image.convert_image_dtype(image, tf.float32)\n",
        "    image = tf.image.random_hue(image, 0.02)\n",
        "    image = tf.image.random_saturation(image, 0.9, 1.2)\n",
        "    image = tf.image.random_flip_left_right(image)\n",
        "    image = tf.image.random_flip_up_down(image)\n",
        "    return build_hsv_grayscale_image(image)\n",
        "    \n"
      ],
      "execution_count": 0,
      "outputs": []
    },
    {
      "cell_type": "code",
      "metadata": {
        "id": "A9A3Bp9nFTTg",
        "colab_type": "code",
        "colab": {}
      },
      "source": [
        "\n",
        "# converts the image from RGB to HSV and\n",
        "# adds a 4th channel to the HSV ones that contains the image in gray scale\n",
        "# for test just convert the image to HSV and add the gray scale channel\n",
        "def build_hsv_grayscale_image(image):\n",
        "    image = tf.image.convert_image_dtype(image, tf.float32)\n",
        "    gray_image = tf.image.rgb_to_grayscale(image)\n",
        "    image = tf.image.rgb_to_hsv(image)\n",
        "    rez = tf.concat([image, gray_image], 2)\n",
        "    return rez\n",
        "    \n"
      ],
      "execution_count": 0,
      "outputs": []
    },
    {
      "cell_type": "code",
      "metadata": {
        "id": "X_qWSF-RFVtv",
        "colab_type": "code",
        "colab": {}
      },
      "source": [
        "\n",
        "def build_datasets(train_file, test_file, batch_size):\n",
        "    train_dataset = tf.data.TFRecordDataset(train_file).repeat()\n",
        "    train_dataset = train_dataset.map(parse_single_example).map(\n",
        "        lambda image, label: (augment_image(image), label))\n",
        "    train_dataset = train_dataset.shuffle(\n",
        "        buffer_size=10000, reshuffle_each_iteration=True)\n",
        "    train_dataset = train_dataset.batch(batch_size)\n",
        "\n",
        "    validation_dataset = tf.data.TFRecordDataset(train_file)\n",
        "    validation_dataset = validation_dataset.map(parse_single_example).map(\n",
        "        lambda image, label: (build_hsv_grayscale_image(image), label))\n",
        "    validation_dataset = validation_dataset.batch(batch_size)\n",
        "    \n",
        "    test_dataset = tf.data.TFRecordDataset(test_file)\n",
        "    test_dataset = test_dataset.map(parse_single_example).map(\n",
        "        lambda image, label: (build_hsv_grayscale_image(image), label))\n",
        "    test_dataset = test_dataset.batch(batch_size)\n",
        "    return train_dataset, validation_dataset, test_dataset\n",
        "    \n"
      ],
      "execution_count": 0,
      "outputs": []
    },
    {
      "cell_type": "code",
      "metadata": {
        "id": "ikzZjeOrFYS5",
        "colab_type": "code",
        "colab": {}
      },
      "source": [
        "\n",
        "import time\n",
        "def train_model(session, train_operation, loss_operation, correct_prediction,\n",
        "                iterator_map):\n",
        "    global learning_rate\n",
        "    time1 = time.time()\n",
        "    train_iterator = iterator_map[\"train_iterator\"]\n",
        "    validation_iterator = iterator_map[\"validation_iterator\"]\n",
        "    validation_init_op = iterator_map[\"validation_init_op\"]\n",
        "    train_images_with_labels = train_iterator.get_next()\n",
        "    validation_images_with_labels = validation_iterator.get_next()\n",
        "    for i in range(1, iterations + 1):\n",
        "        batch_x, batch_y = session.run(train_images_with_labels)\n",
        "        batch_x = np.reshape(batch_x, [batch_size, input_size])\n",
        "        session.run(train_operation, feed_dict={X: batch_x, Y: batch_y})\n",
        "\n",
        "        if i % step_display_interval == 0:\n",
        "            time2 = time.time()\n",
        "            print(\"time: %.4f step: %d\" % (time2 - time1, i))\n",
        "            time1 = time.time()\n",
        "\n",
        "        if i % acc_display_interval == 0:\n",
        "            acc_value, loss = calculate_intermediate_accuracy_and_loss(\n",
        "                session, correct_prediction, loss_operation,\n",
        "                validation_images_with_labels, validation_init_op,\n",
        "                train_images_count)\n",
        "            learning_rate = update_learning_rate(\n",
        "                acc_value, learn_rate=learning_rate)\n",
        "            print(\"step: %d loss: %.4f accuracy: %.4f\" % (i, loss, acc_value))\n",
        "        if i % save_interval == 0:\n",
        "            # save the weights and the meta data for the graph\n",
        "            saver.save(session, './model.ckpt')\n",
        "            tf.train.write_graph(session.graph_def,'./', 'graph.pbtxt')\n",
        "\n"
      ],
      "execution_count": 0,
      "outputs": []
    },
    {
      "cell_type": "markdown",
      "metadata": {
        "id": "4NwIYDLxaGIe",
        "colab_type": "text"
      },
      "source": [
        "Now, that the model has finished training, plot the accuracy and loss over time, both for training and validation data:"
      ]
    },
    {
      "cell_type": "code",
      "metadata": {
        "id": "Ia8iHrNMGA4z",
        "colab_type": "code",
        "colab": {}
      },
      "source": [
        "def calculate_intermediate_accuracy_and_loss(session, correct_prediction, loss_operation, test_images_with_labels, test_init_op, total_image_count):\n",
        "    sess.run(test_init_op)\n",
        "    loss = 0\n",
        "    predicted = 0\n",
        "    count = 0\n",
        "    total = 0\n",
        "    while total < total_image_count:\n",
        "        test_batch_x, test_batch_y = session.run(test_images_with_labels)\n",
        "        test_batch_x = np.reshape(test_batch_x, [-1, input_size])\n",
        "        l, p = session.run([loss_operation, correct_prediction], feed_dict={X: test_batch_x, Y: test_batch_y})\n",
        "        loss += l\n",
        "        predicted += np.sum(p)\n",
        "        count += 1\n",
        "        total += len(p)\n",
        "    return predicted / total_image_count, loss / count"
      ],
      "execution_count": 0,
      "outputs": []
    },
    {
      "cell_type": "code",
      "metadata": {
        "id": "Djzh2uUDGGpN",
        "colab_type": "code",
        "colab": {}
      },
      "source": [
        "def test_model(sess, pred, iterator, total_images, file_name):\n",
        "    images_left_to_process = total_images\n",
        "    total_number_of_images = total_images\n",
        "    images_with_labels = iterator.get_next()\n",
        "    correct = 0\n",
        "    while images_left_to_process > 0:\n",
        "        batch_x, batch_y = sess.run(images_with_labels)\n",
        "        batch_x = np.reshape(batch_x, [-1, input_size])\n",
        "        # the results of the classification is an array of 1 and 0, 1 is a correct classification\n",
        "        results = sess.run(pred, feed_dict={X: batch_x, Y: batch_y})\n",
        "        images_left_to_process = images_left_to_process - len(results)\n",
        "        correct = correct + np.sum(results)\n",
        "        print(\"Predicted %d out of %d; partial accuracy %.4f\" % (correct, total_number_of_images - images_left_to_process,\n",
        "                                                                 correct / (total_number_of_images - images_left_to_process)))\n",
        "    print(\"Final accuracy on %s data: %.8f\" % (file_name, correct / total_number_of_images))"
      ],
      "execution_count": 0,
      "outputs": []
    },
    {
      "cell_type": "markdown",
      "metadata": {
        "id": "cu8KA280ComY",
        "colab_type": "text"
      },
      "source": [
        "Finally, calculate the performance of your model on the test set:"
      ]
    },
    {
      "cell_type": "code",
      "metadata": {
        "id": "_8NQp8BtGTCi",
        "colab_type": "code",
        "outputId": "94262b6d-622f-4b6e-f489-b20966e33114",
        "colab": {
          "base_uri": "https://localhost:8080/",
          "height": 1000
        }
      },
      "source": [
        "import time\n",
        "tf.reset_default_graph() \n",
        "# ------------------------------------------------------------\n",
        "train_images_count, fruit_labels = write_image_data(train_dir, \"train.tfrecord\")\n",
        "test_images_count, _ = write_image_data(validation_dir, \"test.tfrecord\")\n",
        "# ------------------------------------------------------------\n",
        "\n",
        "with tf.Session() as sess:\n",
        "    # placeholder for input layer\n",
        "    X = tf.placeholder(tf.float32, [None, input_size], name=\"X\")\n",
        "    # placeholder for actual labels\n",
        "    Y = tf.placeholder(tf.int64, [None], name=\"Y\")\n",
        "    \n",
        "    # build the network\n",
        "    logits = conv_net(input_layer=X, dropout=dropout)\n",
        "    # apply softmax on the final layer\n",
        "    prediction = tf.nn.softmax(logits)\n",
        "    \n",
        "    # calculate the loss using the predicted labels vs the expected labels\n",
        "    loss = tf.reduce_mean(tf.nn.sparse_softmax_cross_entropy_with_logits(logits=logits, labels=Y))\n",
        "    # use adaptive moment estimation optimizer\n",
        "    optimizer = tf.train.AdamOptimizer(learning_rate=learning_rate)\n",
        "    train_op = optimizer.minimize(loss=loss)\n",
        "    \n",
        "    # calculate the accuracy for this training step\n",
        "    correct_prediction = tf.equal(tf.argmax(prediction, 1), Y)\n",
        "    accuracy = tf.reduce_mean(tf.cast(correct_prediction, tf.float32))\n",
        "    \n",
        "    # input tfrecord file\n",
        "    train_file = \"train.tfrecord\"\n",
        "    test_file = \"test.tfrecord\"\n",
        "    train_dataset, validation_dataset, test_dataset = build_datasets(train_file, test_file, batch_size)\n",
        "    \n",
        "    train_iterator = train_dataset.make_one_shot_iterator()\n",
        "    validation_iterator = tf.data.Iterator.from_structure(validation_dataset.output_types, validation_dataset.output_shapes)\n",
        "    validation_init_op = validation_iterator.make_initializer(validation_dataset)\n",
        "    iterator_map = {\"train_iterator\": train_iterator,\n",
        "                    \"validation_iterator\": validation_iterator,\n",
        "                    \"validation_init_op\": validation_init_op}\n",
        "    test_iterator = test_dataset.make_one_shot_iterator()\n",
        "\n",
        "    init = tf.global_variables_initializer()\n",
        "    saver = tf.train.Saver()\n",
        "    sess.run(init)\n",
        "    # restore the previously saved value if we wish to continue the training\n",
        "    if useCkpt:\n",
        "        ckpt = tf.train.get_checkpoint_state(\".\")\n",
        "        saver.restore(sess, ckpt.model_checkpoint_path)\n",
        "\n",
        "    train_model(sess, train_op, loss, correct_prediction, iterator_map)\n",
        "    \n",
        "    test_model(sess, correct_prediction, test_iterator, test_images_count, test_file)\n",
        "    \n",
        "    sess.close()\n"
      ],
      "execution_count": 0,
      "outputs": [
        {
          "output_type": "stream",
          "text": [
            "{0: 'Tomato 3', 1: 'Cherry Wax Red', 2: 'Onion Red Peeled', 3: 'Kohlrabi', 4: 'Tomato Cherry Red', 5: 'Orange', 6: 'Pear', 7: 'Pear Forelle', 8: 'Tomato 1', 9: 'Granadilla', 10: 'Pepper Green', 11: 'Peach 2', 12: 'Physalis with Husk', 13: 'Carambula', 14: 'Cherry Rainier', 15: 'Banana', 16: 'Pear Williams', 17: 'Kaki', 18: 'Maracuja', 19: 'Redcurrant', 20: 'Pepper Yellow', 21: 'Grape White 4', 22: 'Rambutan', 23: 'Grape Pink', 24: 'Nut Pecan', 25: 'Tamarillo', 26: 'Hazelnut', 27: 'Grapefruit White', 28: 'Pineapple Mini', 29: 'Passion Fruit', 30: 'Lemon', 31: 'Apple Red Delicious', 32: 'Apple Golden 1', 33: 'Pomelo Sweetie', 34: 'Apple Red 2', 35: 'Plum', 36: 'Limes', 37: 'Blueberry', 38: 'Eggplant', 39: 'Mandarine', 40: 'Avocado', 41: 'Potato White', 42: 'Nectarine Flat', 43: 'Potato Red Washed', 44: 'Tomato Yellow', 45: 'Cherry 1', 46: 'Mulberry', 47: 'Plum 3', 48: 'Apple Pink Lady', 49: 'Apple Golden 3', 50: 'Cantaloupe 1', 51: 'Pear Monster', 52: 'Cocos', 53: 'Strawberry', 54: 'Banana Red', 55: 'Apple Red Yellow 2', 56: 'Apple Braeburn', 57: 'Chestnut', 58: 'Grape White 2', 59: 'Mango Red'}\n",
            "{0: 'Tomato 3', 1: 'Cherry Wax Red', 2: 'Onion Red Peeled', 3: 'Kohlrabi', 4: 'Tomato Cherry Red', 5: 'Orange', 6: 'Pear', 7: 'Pear Forelle', 8: 'Tomato 1', 9: 'Granadilla', 10: 'Pepper Green', 11: 'Peach 2', 12: 'Physalis with Husk', 13: 'Carambula', 14: 'Cherry Rainier', 15: 'Banana', 16: 'Pear Williams', 17: 'Kaki', 18: 'Maracuja', 19: 'Redcurrant', 20: 'Pepper Yellow', 21: 'Grape White 4', 22: 'Rambutan', 23: 'Grape Pink', 24: 'Nut Pecan', 25: 'Tamarillo', 26: 'Hazelnut', 27: 'Grapefruit White', 28: 'Pineapple Mini', 29: 'Passion Fruit', 30: 'Lemon', 31: 'Apple Red Delicious', 32: 'Apple Golden 1', 33: 'Pomelo Sweetie', 34: 'Apple Red 2', 35: 'Plum', 36: 'Limes', 37: 'Blueberry', 38: 'Eggplant', 39: 'Mandarine', 40: 'Avocado', 41: 'Potato White', 42: 'Nectarine Flat', 43: 'Potato Red Washed', 44: 'Tomato Yellow', 45: 'Cherry 1', 46: 'Mulberry', 47: 'Plum 3', 48: 'Apple Pink Lady', 49: 'Apple Golden 3', 50: 'Cantaloupe 1', 51: 'Pear Monster', 52: 'Cocos', 53: 'Strawberry', 54: 'Banana Red', 55: 'Apple Red Yellow 2', 56: 'Apple Braeburn', 57: 'Chestnut', 58: 'Grape White 2', 59: 'Mango Red'}\n",
            "WARNING:tensorflow:Entity <function build_datasets.<locals>.<lambda> at 0x7fcba13b2730> could not be transformed and will be executed as-is. Please report this to the AutoGraph team. When filing the bug, set the verbosity to 10 (on Linux, `export AUTOGRAPH_VERBOSITY=10`) and attach the full output. Cause: module 'gast' has no attribute 'Str'\n",
            "WARNING: Entity <function build_datasets.<locals>.<lambda> at 0x7fcba13b2730> could not be transformed and will be executed as-is. Please report this to the AutoGraph team. When filing the bug, set the verbosity to 10 (on Linux, `export AUTOGRAPH_VERBOSITY=10`) and attach the full output. Cause: module 'gast' has no attribute 'Str'\n",
            "WARNING:tensorflow:Entity <function build_datasets.<locals>.<lambda> at 0x7fcbf07cd158> could not be transformed and will be executed as-is. Please report this to the AutoGraph team. When filing the bug, set the verbosity to 10 (on Linux, `export AUTOGRAPH_VERBOSITY=10`) and attach the full output. Cause: module 'gast' has no attribute 'Str'\n",
            "WARNING: Entity <function build_datasets.<locals>.<lambda> at 0x7fcbf07cd158> could not be transformed and will be executed as-is. Please report this to the AutoGraph team. When filing the bug, set the verbosity to 10 (on Linux, `export AUTOGRAPH_VERBOSITY=10`) and attach the full output. Cause: module 'gast' has no attribute 'Str'\n",
            "WARNING:tensorflow:Entity <function build_datasets.<locals>.<lambda> at 0x7fcbf078e048> could not be transformed and will be executed as-is. Please report this to the AutoGraph team. When filing the bug, set the verbosity to 10 (on Linux, `export AUTOGRAPH_VERBOSITY=10`) and attach the full output. Cause: module 'gast' has no attribute 'Str'\n",
            "WARNING: Entity <function build_datasets.<locals>.<lambda> at 0x7fcbf078e048> could not be transformed and will be executed as-is. Please report this to the AutoGraph team. When filing the bug, set the verbosity to 10 (on Linux, `export AUTOGRAPH_VERBOSITY=10`) and attach the full output. Cause: module 'gast' has no attribute 'Str'\n",
            "time: 29.3371 step: 100\n",
            "time: 14.6256 step: 200\n",
            "time: 14.4681 step: 300\n",
            "time: 14.4200 step: 400\n",
            "time: 14.3168 step: 500\n",
            "time: 14.5381 step: 600\n",
            "time: 14.2921 step: 700\n",
            "time: 14.4708 step: 800\n",
            "time: 14.2735 step: 900\n",
            "time: 14.3544 step: 1000\n",
            "step: 1000 loss: 0.0278 accuracy: 0.9917\n",
            "time: 58.1516 step: 1100\n",
            "time: 14.3948 step: 1200\n",
            "time: 14.7485 step: 1300\n",
            "time: 14.1949 step: 1400\n",
            "time: 14.2702 step: 1500\n",
            "Predicted 60 out of 60; partial accuracy 1.0000\n",
            "Predicted 120 out of 120; partial accuracy 1.0000\n",
            "Predicted 180 out of 180; partial accuracy 1.0000\n",
            "Predicted 240 out of 240; partial accuracy 1.0000\n",
            "Predicted 300 out of 300; partial accuracy 1.0000\n",
            "Predicted 360 out of 360; partial accuracy 1.0000\n",
            "Predicted 420 out of 420; partial accuracy 1.0000\n",
            "Predicted 480 out of 480; partial accuracy 1.0000\n",
            "Predicted 540 out of 540; partial accuracy 1.0000\n",
            "Predicted 600 out of 600; partial accuracy 1.0000\n",
            "Predicted 660 out of 660; partial accuracy 1.0000\n",
            "Predicted 720 out of 720; partial accuracy 1.0000\n",
            "Predicted 780 out of 780; partial accuracy 1.0000\n",
            "Predicted 840 out of 840; partial accuracy 1.0000\n",
            "Predicted 900 out of 900; partial accuracy 1.0000\n",
            "Predicted 960 out of 960; partial accuracy 1.0000\n",
            "Predicted 1020 out of 1020; partial accuracy 1.0000\n",
            "Predicted 1080 out of 1080; partial accuracy 1.0000\n",
            "Predicted 1140 out of 1140; partial accuracy 1.0000\n",
            "Predicted 1200 out of 1200; partial accuracy 1.0000\n",
            "Predicted 1260 out of 1260; partial accuracy 1.0000\n",
            "Predicted 1320 out of 1320; partial accuracy 1.0000\n",
            "Predicted 1380 out of 1380; partial accuracy 1.0000\n",
            "Predicted 1440 out of 1440; partial accuracy 1.0000\n",
            "Predicted 1500 out of 1500; partial accuracy 1.0000\n",
            "Predicted 1560 out of 1560; partial accuracy 1.0000\n",
            "Predicted 1620 out of 1620; partial accuracy 1.0000\n",
            "Predicted 1680 out of 1680; partial accuracy 1.0000\n",
            "Predicted 1739 out of 1740; partial accuracy 0.9994\n",
            "Predicted 1797 out of 1800; partial accuracy 0.9983\n",
            "Predicted 1854 out of 1860; partial accuracy 0.9968\n",
            "Predicted 1914 out of 1920; partial accuracy 0.9969\n",
            "Predicted 1974 out of 1980; partial accuracy 0.9970\n",
            "Predicted 2034 out of 2040; partial accuracy 0.9971\n",
            "Predicted 2094 out of 2100; partial accuracy 0.9971\n",
            "Predicted 2154 out of 2160; partial accuracy 0.9972\n",
            "Predicted 2214 out of 2220; partial accuracy 0.9973\n",
            "Predicted 2274 out of 2280; partial accuracy 0.9974\n",
            "Predicted 2334 out of 2340; partial accuracy 0.9974\n",
            "Predicted 2393 out of 2400; partial accuracy 0.9971\n",
            "Predicted 2438 out of 2460; partial accuracy 0.9911\n",
            "Predicted 2468 out of 2520; partial accuracy 0.9794\n",
            "Predicted 2509 out of 2580; partial accuracy 0.9725\n",
            "Predicted 2569 out of 2640; partial accuracy 0.9731\n",
            "Predicted 2629 out of 2700; partial accuracy 0.9737\n",
            "Predicted 2689 out of 2760; partial accuracy 0.9743\n",
            "Predicted 2749 out of 2820; partial accuracy 0.9748\n",
            "Predicted 2791 out of 2880; partial accuracy 0.9691\n",
            "Predicted 2836 out of 2940; partial accuracy 0.9646\n",
            "Predicted 2882 out of 3000; partial accuracy 0.9607\n",
            "Predicted 2930 out of 3060; partial accuracy 0.9575\n",
            "Predicted 2974 out of 3120; partial accuracy 0.9532\n",
            "Predicted 3022 out of 3180; partial accuracy 0.9503\n",
            "Predicted 3082 out of 3240; partial accuracy 0.9512\n",
            "Predicted 3142 out of 3300; partial accuracy 0.9521\n",
            "Predicted 3201 out of 3360; partial accuracy 0.9527\n",
            "Predicted 3257 out of 3420; partial accuracy 0.9523\n",
            "Predicted 3316 out of 3480; partial accuracy 0.9529\n",
            "Predicted 3372 out of 3540; partial accuracy 0.9525\n",
            "Predicted 3428 out of 3600; partial accuracy 0.9522\n",
            "Predicted 3484 out of 3660; partial accuracy 0.9519\n",
            "Predicted 3544 out of 3720; partial accuracy 0.9527\n",
            "Predicted 3604 out of 3780; partial accuracy 0.9534\n",
            "Predicted 3664 out of 3840; partial accuracy 0.9542\n",
            "Predicted 3724 out of 3900; partial accuracy 0.9549\n",
            "Predicted 3784 out of 3960; partial accuracy 0.9556\n",
            "Predicted 3844 out of 4020; partial accuracy 0.9562\n",
            "Predicted 3904 out of 4080; partial accuracy 0.9569\n",
            "Predicted 3964 out of 4140; partial accuracy 0.9575\n",
            "Predicted 4024 out of 4200; partial accuracy 0.9581\n",
            "Predicted 4080 out of 4260; partial accuracy 0.9577\n",
            "Predicted 4138 out of 4320; partial accuracy 0.9579\n",
            "Predicted 4197 out of 4380; partial accuracy 0.9582\n",
            "Predicted 4257 out of 4440; partial accuracy 0.9588\n",
            "Predicted 4317 out of 4500; partial accuracy 0.9593\n",
            "Predicted 4377 out of 4560; partial accuracy 0.9599\n",
            "Predicted 4437 out of 4620; partial accuracy 0.9604\n",
            "Predicted 4497 out of 4680; partial accuracy 0.9609\n",
            "Predicted 4557 out of 4740; partial accuracy 0.9614\n",
            "Predicted 4617 out of 4800; partial accuracy 0.9619\n",
            "Predicted 4677 out of 4860; partial accuracy 0.9623\n",
            "Predicted 4737 out of 4920; partial accuracy 0.9628\n",
            "Predicted 4797 out of 4980; partial accuracy 0.9633\n",
            "Predicted 4854 out of 5040; partial accuracy 0.9631\n",
            "Predicted 4910 out of 5100; partial accuracy 0.9627\n",
            "Predicted 4959 out of 5160; partial accuracy 0.9610\n",
            "Predicted 5016 out of 5220; partial accuracy 0.9609\n",
            "Predicted 5076 out of 5280; partial accuracy 0.9614\n",
            "Predicted 5136 out of 5340; partial accuracy 0.9618\n",
            "Predicted 5175 out of 5400; partial accuracy 0.9583\n",
            "Predicted 5205 out of 5460; partial accuracy 0.9533\n",
            "Predicted 5240 out of 5520; partial accuracy 0.9493\n",
            "Predicted 5300 out of 5580; partial accuracy 0.9498\n",
            "Predicted 5360 out of 5640; partial accuracy 0.9504\n",
            "Predicted 5419 out of 5700; partial accuracy 0.9507\n",
            "Predicted 5479 out of 5760; partial accuracy 0.9512\n",
            "Predicted 5539 out of 5820; partial accuracy 0.9517\n",
            "Predicted 5599 out of 5880; partial accuracy 0.9522\n",
            "Predicted 5659 out of 5940; partial accuracy 0.9527\n",
            "Predicted 5719 out of 6000; partial accuracy 0.9532\n",
            "Predicted 5779 out of 6060; partial accuracy 0.9536\n",
            "Predicted 5839 out of 6120; partial accuracy 0.9541\n",
            "Predicted 5899 out of 6180; partial accuracy 0.9545\n",
            "Predicted 5959 out of 6240; partial accuracy 0.9550\n",
            "Predicted 6019 out of 6300; partial accuracy 0.9554\n",
            "Predicted 6079 out of 6360; partial accuracy 0.9558\n",
            "Predicted 6139 out of 6420; partial accuracy 0.9562\n",
            "Predicted 6199 out of 6480; partial accuracy 0.9566\n",
            "Predicted 6259 out of 6540; partial accuracy 0.9570\n",
            "Predicted 6319 out of 6600; partial accuracy 0.9574\n",
            "Predicted 6374 out of 6660; partial accuracy 0.9571\n",
            "Predicted 6413 out of 6720; partial accuracy 0.9543\n",
            "Predicted 6455 out of 6780; partial accuracy 0.9521\n",
            "Predicted 6509 out of 6840; partial accuracy 0.9516\n",
            "Predicted 6569 out of 6900; partial accuracy 0.9520\n",
            "Predicted 6629 out of 6960; partial accuracy 0.9524\n",
            "Predicted 6689 out of 7020; partial accuracy 0.9528\n",
            "Predicted 6749 out of 7080; partial accuracy 0.9532\n",
            "Predicted 6809 out of 7140; partial accuracy 0.9536\n",
            "Predicted 6869 out of 7200; partial accuracy 0.9540\n",
            "Predicted 6927 out of 7260; partial accuracy 0.9541\n",
            "Predicted 6976 out of 7320; partial accuracy 0.9530\n",
            "Predicted 7034 out of 7380; partial accuracy 0.9531\n",
            "Predicted 7093 out of 7440; partial accuracy 0.9534\n",
            "Predicted 7153 out of 7500; partial accuracy 0.9537\n",
            "Predicted 7213 out of 7560; partial accuracy 0.9541\n",
            "Predicted 7273 out of 7620; partial accuracy 0.9545\n",
            "Predicted 7333 out of 7680; partial accuracy 0.9548\n",
            "Predicted 7393 out of 7740; partial accuracy 0.9552\n",
            "Predicted 7453 out of 7800; partial accuracy 0.9555\n",
            "Predicted 7513 out of 7860; partial accuracy 0.9559\n",
            "Predicted 7573 out of 7920; partial accuracy 0.9562\n",
            "Predicted 7633 out of 7980; partial accuracy 0.9565\n",
            "Predicted 7693 out of 8040; partial accuracy 0.9568\n",
            "Predicted 7753 out of 8100; partial accuracy 0.9572\n",
            "Predicted 7813 out of 8160; partial accuracy 0.9575\n",
            "Predicted 7873 out of 8220; partial accuracy 0.9578\n",
            "Predicted 7933 out of 8280; partial accuracy 0.9581\n",
            "Predicted 7993 out of 8340; partial accuracy 0.9584\n",
            "Predicted 8053 out of 8400; partial accuracy 0.9587\n",
            "Predicted 8113 out of 8460; partial accuracy 0.9590\n",
            "Predicted 8167 out of 8520; partial accuracy 0.9586\n",
            "Predicted 8215 out of 8580; partial accuracy 0.9575\n",
            "Predicted 8263 out of 8640; partial accuracy 0.9564\n",
            "Predicted 8317 out of 8700; partial accuracy 0.9560\n",
            "Predicted 8377 out of 8760; partial accuracy 0.9563\n",
            "Predicted 8437 out of 8820; partial accuracy 0.9566\n",
            "Predicted 8497 out of 8880; partial accuracy 0.9569\n",
            "Predicted 8557 out of 8940; partial accuracy 0.9572\n",
            "Predicted 8616 out of 9000; partial accuracy 0.9573\n",
            "Predicted 8671 out of 9060; partial accuracy 0.9571\n",
            "Predicted 8730 out of 9120; partial accuracy 0.9572\n",
            "Predicted 8785 out of 9180; partial accuracy 0.9570\n",
            "Predicted 8845 out of 9240; partial accuracy 0.9573\n",
            "Predicted 8905 out of 9300; partial accuracy 0.9575\n",
            "Predicted 8958 out of 9360; partial accuracy 0.9571\n",
            "Predicted 9003 out of 9420; partial accuracy 0.9557\n",
            "Predicted 9054 out of 9480; partial accuracy 0.9551\n",
            "Predicted 9112 out of 9540; partial accuracy 0.9551\n",
            "Predicted 9172 out of 9600; partial accuracy 0.9554\n",
            "Predicted 9232 out of 9660; partial accuracy 0.9557\n",
            "Predicted 9285 out of 9720; partial accuracy 0.9552\n",
            "Predicted 9323 out of 9780; partial accuracy 0.9533\n",
            "Predicted 9360 out of 9840; partial accuracy 0.9512\n",
            "Predicted 9410 out of 9900; partial accuracy 0.9505\n",
            "Predicted 9467 out of 9960; partial accuracy 0.9505\n",
            "Predicted 9524 out of 10020; partial accuracy 0.9505\n",
            "Predicted 9584 out of 10080; partial accuracy 0.9508\n",
            "Predicted 9644 out of 10140; partial accuracy 0.9511\n",
            "Predicted 9704 out of 10200; partial accuracy 0.9514\n",
            "Predicted 9762 out of 10260; partial accuracy 0.9515\n",
            "Predicted 9818 out of 10320; partial accuracy 0.9514\n",
            "Predicted 9830 out of 10332; partial accuracy 0.9514\n",
            "Final accuracy on test.tfrecord data: 0.95141309\n"
          ],
          "name": "stdout"
        }
      ]
    },
    {
      "cell_type": "markdown",
      "metadata": {
        "id": "KOb7krvZaGZ2",
        "colab_type": "text"
      },
      "source": [
        "How did the loss and accuracy curves change over time? What does it mean regarding the training process (i.e. overfit, underfit, etc.)? Is that a problem and how would you solve it?\n",
        "\n",
        "**Write your answers below**"
      ]
    },
    {
      "cell_type": "markdown",
      "metadata": {
        "id": "oFxnT7DItmu-",
        "colab_type": "text"
      },
      "source": [
        "#### **summary**\n",
        "Loss decreases with increasing time, and accuracy increases with increasing time.\n",
        "\n",
        "From the model test results above, when the number of iterations is 100, the running time is 29.3317 seconds, but when iterating to 1500 times, the running time is 14.2702, which is enough to prove that the loss decreases with time; then It is accuracy. This time at the beginning, the test set has an accuracy of 1, but as the number of test sets increases, the accuracy is gradually decreasing, but the overall accuracy is still guaranteed to be around 95%.\n",
        "\n",
        "So at the beginning, the test set had a serious overfitting. Later, as time went on, there were more and more test sets, and the situation of overfitting was alleviated. This is indeed a relatively serious problem, but I guess there is one reason. When the number of iterations was 75000, the accuracy was a linear growth trend with time. This time this overfitting situation may be due to the number of iterations It ’s relatively small, but because my computer ’s performance is not very good, if there are too many iterations, it takes about two or three hours to run a program, and the training results are also good and bad. The solution is to modify the neural network. Layer, increase the kernel of the third and fourth layers a little, and then the filter increases."
      ]
    }
  ]
}